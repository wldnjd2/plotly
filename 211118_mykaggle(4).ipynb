{
 "cells": [
  {
   "cell_type": "markdown",
   "metadata": {},
   "source": [
    "### **라이브러리 불러오기 & 캐글 데이터 불러오기**\n",
    "---"
   ]
  },
  {
   "cell_type": "code",
   "execution_count": 258,
   "metadata": {
    "_cell_guid": "b1076dfc-b9ad-4769-8c92-a6c4dae69d19",
    "_uuid": "8f2839f25d086af736a60e9eeb907d3b93b6e0e5",
    "execution": {
     "iopub.execute_input": "2021-11-17T15:49:51.840941Z",
     "iopub.status.busy": "2021-11-17T15:49:51.840652Z",
     "iopub.status.idle": "2021-11-17T15:49:51.871185Z",
     "shell.execute_reply": "2021-11-17T15:49:51.870324Z",
     "shell.execute_reply.started": "2021-11-17T15:49:51.840910Z"
    }
   },
   "outputs": [],
   "source": [
    "import numpy as np\n",
    "import pandas as pd\n",
    "import seaborn as sns\n",
    "import matplotlib.pylab as plt\n",
    "\n",
    "import plotly.io as pio\n",
    "import plotly.express as px\n",
    "import plotly.graph_objects as go\n",
    "import plotly.figure_factory as ff\n",
    "from plotly.subplots import make_subplots\n",
    "from plotly.offline import init_notebook_mode, iplot\n",
    "init_notebook_mode(connected=True)\n",
    "pio.templates.default = \"none\"\n",
    "# import plotly.offline as py\n",
    "# py.offline.init_notebook_mode()\n",
    "\n",
    "import os\n",
    "for dirname, _, filenames in os.walk('/kaggle/input'):\n",
    "    for filename in filenames:\n",
    "        print(os.path.join(dirname, filename))\n",
    "\n",
    "import warnings\n",
    "warnings.filterwarnings(\"ignore\")"
   ]
  },
  {
   "cell_type": "code",
   "execution_count": 259,
   "metadata": {
    "execution": {
     "iopub.execute_input": "2021-11-17T15:49:51.873052Z",
     "iopub.status.busy": "2021-11-17T15:49:51.872660Z",
     "iopub.status.idle": "2021-11-17T15:49:56.255256Z",
     "shell.execute_reply": "2021-11-17T15:49:56.254666Z",
     "shell.execute_reply.started": "2021-11-17T15:49:51.873009Z"
    }
   },
   "outputs": [],
   "source": [
    "df17= pd.read_csv(\"/kaggle/input/kaggle-survey-2017/multipleChoiceResponses.csv\", encoding=\"ISO-8859-1\")\n",
    "df18= pd.read_csv(\"/kaggle/input/kaggle-survey-2018/multipleChoiceResponses.csv\", )\n",
    "df19= pd.read_csv(\"/kaggle/input/kaggle-survey-2019/multiple_choice_responses.csv\", )\n",
    "df20= pd.read_csv(\"/kaggle/input/kaggle-survey-2020/kaggle_survey_2020_responses.csv\", )\n",
    "df21= pd.read_csv(\"/kaggle/input/kaggle-survey-2021/kaggle_survey_2021_responses.csv\", )"
   ]
  },
  {
   "cell_type": "markdown",
   "metadata": {},
   "source": [
    "### **EastAsia 데이터 Grouping**\n",
    "---"
   ]
  },
  {
   "cell_type": "code",
   "execution_count": 260,
   "metadata": {
    "execution": {
     "iopub.execute_input": "2021-11-17T15:49:56.257383Z",
     "iopub.status.busy": "2021-11-17T15:49:56.256628Z",
     "iopub.status.idle": "2021-11-17T15:49:56.895543Z",
     "shell.execute_reply": "2021-11-17T15:49:56.894796Z",
     "shell.execute_reply.started": "2021-11-17T15:49:56.257344Z"
    }
   },
   "outputs": [],
   "source": [
    "## East Asia에는 대한민국, 일본, 중국, 타이완, 몽골, 북조선 총 6개의 국가가 속해 있다. \n",
    "\n",
    "EastAsia17 = ['China',\"People 's Republic of China\", 'Taiwan', 'South Korea', 'Japan']\n",
    "EastAsia18 = ['China', 'South Korea', 'Japan', 'Republic of Korea'] \n",
    "EastAsia19 = ['China','Taiwan', 'South Korea', 'Japan', 'Republic of Korea']\n",
    "EastAsia20 = ['China','Taiwan', 'South Korea', 'Japan', 'Republic of Korea']\n",
    "EastAsia21 = ['China','Taiwan', 'South Korea', 'Japan']\n",
    "EastAsia = ['Republic of Korea','China','Taiwan', 'South Korea', 'Japan', \"People 's Republic of China\" ]\n",
    "\n",
    "#21년\n",
    "df21_Ea = df21[df21['Q3'].isin(EastAsia)]\n",
    "df21_Wo = df21[~df21['Q3'].isin(EastAsia )]\n",
    "\n",
    "##  동아시아 국가를 제외한 국가들을 region 열의 데이터 값을 World 로 바꿔줌\n",
    "# region 열 생성\n",
    "df21['region']=[\"EastAsia\" if x in EastAsia \n",
    "                            else \"World\" for x in df21['Q3']]\n",
    "\n",
    "#20년\n",
    "df20_Ea = df20[df20['Q3'].isin(EastAsia)]\n",
    "df20_Wo = df20[~df20['Q3'].isin(EastAsia )]\n",
    "df20['region']=[\"EastAsia\" if x in EastAsia \n",
    "                            else \"World\" for x in df20['Q3']]\n",
    "\n",
    "#19년\n",
    "df19_Ea = df19[df19['Q3'].isin(EastAsia)]\n",
    "df19_Wo = df19[~df19['Q3'].isin(EastAsia )]\n",
    "df19['region']=[\"EastAsia\" if x in EastAsia\n",
    "                            else \"World\" for x in df19['Q3']]\n",
    "\n",
    "#18년\n",
    "df18_Ea = df18[df18['Q3'].isin(EastAsia)]\n",
    "df18_Wo = df18[~df18['Q3'].isin(EastAsia )]\n",
    "df18['region']=[\"EastAsia\" if x in EastAsia \n",
    "                            else \"World\" for x in df18['Q3']]\n",
    "\n",
    "#17년\n",
    "df17_Ea = df17[df17['Country'].isin(EastAsia)]\n",
    "df17_Wo = df17[~df17['Country'].isin(EastAsia )]\n",
    "df17['region']=[\"EastAsia\" if x in EastAsia \n",
    "                            else \"World\" for x in df17['Country']]"
   ]
  },
  {
   "cell_type": "markdown",
   "metadata": {},
   "source": [
    "### **211117 시작**\n",
    "---\n",
    "### **학력**\n",
    "---\n",
    "- Q4"
   ]
  },
  {
   "cell_type": "code",
   "execution_count": 261,
   "metadata": {
    "execution": {
     "iopub.execute_input": "2021-11-17T15:49:56.897711Z",
     "iopub.status.busy": "2021-11-17T15:49:56.897101Z",
     "iopub.status.idle": "2021-11-17T15:49:56.914497Z",
     "shell.execute_reply": "2021-11-17T15:49:56.913749Z",
     "shell.execute_reply.started": "2021-11-17T15:49:56.897651Z"
    }
   },
   "outputs": [],
   "source": [
    "df21_degree= df21['Q4'].value_counts().to_frame().reset_index()\n",
    "df21_degree"
   ]
  },
  {
   "cell_type": "code",
   "execution_count": 262,
   "metadata": {
    "execution": {
     "iopub.execute_input": "2021-11-17T15:49:56.918911Z",
     "iopub.status.busy": "2021-11-17T15:49:56.916327Z",
     "iopub.status.idle": "2021-11-17T15:49:56.929001Z",
     "shell.execute_reply": "2021-11-17T15:49:56.928338Z",
     "shell.execute_reply.started": "2021-11-17T15:49:56.918874Z"
    }
   },
   "outputs": [],
   "source": [
    "#마지막 행 삭제\n",
    "df21_degree.drop(df21_degree.index[7])"
   ]
  },
  {
   "cell_type": "code",
   "execution_count": 263,
   "metadata": {
    "execution": {
     "iopub.execute_input": "2021-11-17T15:49:56.930920Z",
     "iopub.status.busy": "2021-11-17T15:49:56.930452Z",
     "iopub.status.idle": "2021-11-17T15:49:56.936386Z",
     "shell.execute_reply": "2021-11-17T15:49:56.935724Z",
     "shell.execute_reply.started": "2021-11-17T15:49:56.930887Z"
    }
   },
   "outputs": [],
   "source": [
    "df21_degree['Q4'].to_numpy()"
   ]
  },
  {
   "cell_type": "code",
   "execution_count": 264,
   "metadata": {
    "execution": {
     "iopub.execute_input": "2021-11-17T15:49:56.938359Z",
     "iopub.status.busy": "2021-11-17T15:49:56.937829Z",
     "iopub.status.idle": "2021-11-17T15:49:56.948662Z",
     "shell.execute_reply": "2021-11-17T15:49:56.947888Z",
     "shell.execute_reply.started": "2021-11-17T15:49:56.938327Z"
    }
   },
   "outputs": [],
   "source": [
    "df21_degree['index'].tolist()"
   ]
  },
  {
   "cell_type": "code",
   "execution_count": 265,
   "metadata": {
    "execution": {
     "iopub.execute_input": "2021-11-17T15:49:56.949852Z",
     "iopub.status.busy": "2021-11-17T15:49:56.949592Z",
     "iopub.status.idle": "2021-11-17T15:49:56.966108Z",
     "shell.execute_reply": "2021-11-17T15:49:56.965486Z",
     "shell.execute_reply.started": "2021-11-17T15:49:56.949812Z"
    }
   },
   "outputs": [],
   "source": [
    "degree = df21_degree['index'].tolist()\n",
    "\n",
    "fig = go.Figure(data=[\n",
    "    go.Bar(name='21년 World kaggler들의 학력', x=degree, y=df21_degree['Q4'].to_numpy() ,orientation='v')])\n",
    "\n",
    "fig.update_layout(title_text=\"<b>21년 World kaggler들의 학력</b>\",title_font_size=35)\n",
    "\n",
    "fig.show()"
   ]
  },
  {
   "cell_type": "code",
   "execution_count": 411,
   "metadata": {
    "execution": {
     "iopub.execute_input": "2021-11-17T17:09:13.503868Z",
     "iopub.status.busy": "2021-11-17T17:09:13.503561Z",
     "iopub.status.idle": "2021-11-17T17:09:13.524080Z",
     "shell.execute_reply": "2021-11-17T17:09:13.523532Z",
     "shell.execute_reply.started": "2021-11-17T17:09:13.503826Z"
    }
   },
   "outputs": [],
   "source": [
    "#전체 코드\n",
    "df21_degree= df21['Q4'].value_counts().to_frame().reset_index()\n",
    "df21_degree\n",
    "\n",
    "#마지막 행 삭제\n",
    "df21_degree.drop(df21_degree.index[7])\n",
    "\n",
    "degree = df21_degree['index'].tolist()\n",
    "\n",
    "fig = go.Figure(data=[\n",
    "    go.Bar(name='21년 World kaggler들의 학력', x=degree, y=df21_degree['Q4'].to_numpy() ,orientation='v')])\n",
    "\n",
    "fig.update_layout(title_text=\"<b>21년 World kaggler들의 학력</b>\",title_font_size=35)\n",
    "\n",
    "fig.show()"
   ]
  },
  {
   "cell_type": "code",
   "execution_count": 266,
   "metadata": {
    "execution": {
     "iopub.execute_input": "2021-11-17T15:49:56.967943Z",
     "iopub.status.busy": "2021-11-17T15:49:56.967206Z",
     "iopub.status.idle": "2021-11-17T15:49:56.988448Z",
     "shell.execute_reply": "2021-11-17T15:49:56.987544Z",
     "shell.execute_reply.started": "2021-11-17T15:49:56.967902Z"
    }
   },
   "outputs": [],
   "source": [
    "df21_Ea['Q4'].value_counts().index"
   ]
  },
  {
   "cell_type": "code",
   "execution_count": 267,
   "metadata": {
    "execution": {
     "iopub.execute_input": "2021-11-17T15:49:56.992566Z",
     "iopub.status.busy": "2021-11-17T15:49:56.992233Z",
     "iopub.status.idle": "2021-11-17T15:49:57.008491Z",
     "shell.execute_reply": "2021-11-17T15:49:57.007666Z",
     "shell.execute_reply.started": "2021-11-17T15:49:56.992530Z"
    }
   },
   "outputs": [],
   "source": [
    "df21_ea_degree = df21_Ea['Q4'].value_counts().to_frame().reset_index()\n",
    "df21_ea_degree['Q4'].to_numpy()"
   ]
  },
  {
   "cell_type": "code",
   "execution_count": 268,
   "metadata": {
    "execution": {
     "iopub.execute_input": "2021-11-17T15:49:57.010102Z",
     "iopub.status.busy": "2021-11-17T15:49:57.009877Z",
     "iopub.status.idle": "2021-11-17T15:49:57.034020Z",
     "shell.execute_reply": "2021-11-17T15:49:57.033336Z",
     "shell.execute_reply.started": "2021-11-17T15:49:57.010075Z"
    }
   },
   "outputs": [],
   "source": [
    "degree = df21_Ea['Q4'].value_counts().index\n",
    "\n",
    "fig = go.Figure(data=[\n",
    "    go.Bar(name='China', x = degree, \n",
    "                           y=df21_Ea['Q4'][df21_Ea['Q3'] =='China'].value_counts()),\n",
    "    go.Bar(name='Japan', x = degree, \n",
    "                             y=df21_Ea['Q4'][df21_Ea['Q3'] =='Japan'].value_counts()),\n",
    "    go.Bar(name='South Korea', x= degree, \n",
    "                            y=df21_Ea['Q4'][df21_Ea['Q3'] =='South Korea'].value_counts()),\n",
    "    go.Bar(name='Taiwan', x= degree, \n",
    "                            y=df21_Ea['Q4'][df21_Ea['Q3'] =='Taiwan'].value_counts())\n",
    "    ])\n",
    "\n",
    "fig.update_layout(title_text=\"<b>21년 EastAisa kaggler들의 학력</b>\",title_font_size=35)\n",
    "fig.show()"
   ]
  },
  {
   "cell_type": "code",
   "execution_count": 412,
   "metadata": {
    "execution": {
     "iopub.execute_input": "2021-11-17T17:10:31.826040Z",
     "iopub.status.busy": "2021-11-17T17:10:31.825772Z",
     "iopub.status.idle": "2021-11-17T17:10:31.849168Z",
     "shell.execute_reply": "2021-11-17T17:10:31.848602Z",
     "shell.execute_reply.started": "2021-11-17T17:10:31.826011Z"
    }
   },
   "outputs": [],
   "source": [
    "#전체 코드\n",
    "\n",
    "df21_ea_degree = df21_Ea['Q4'].value_counts().to_frame().reset_index()\n",
    "\n",
    "degree = df21_Ea['Q4'].value_counts().index\n",
    "\n",
    "fig = go.Figure(data=[\n",
    "    go.Bar(name='China', x = degree, \n",
    "                           y=df21_Ea['Q4'][df21_Ea['Q3'] =='China'].value_counts()),\n",
    "    go.Bar(name='Japan', x = degree, \n",
    "                             y=df21_Ea['Q4'][df21_Ea['Q3'] =='Japan'].value_counts()),\n",
    "    go.Bar(name='South Korea', x= degree, \n",
    "                            y=df21_Ea['Q4'][df21_Ea['Q3'] =='South Korea'].value_counts()),\n",
    "    go.Bar(name='Taiwan', x= degree, \n",
    "                            y=df21_Ea['Q4'][df21_Ea['Q3'] =='Taiwan'].value_counts())\n",
    "    ])\n",
    "\n",
    "fig.update_layout(title_text=\"<b>21년 EastAisa kaggler들의 학력</b>\",title_font_size=35)\n",
    "fig.show()"
   ]
  },
  {
   "cell_type": "markdown",
   "metadata": {},
   "source": [
    "### **직업**\n",
    "---\n",
    "- Q5"
   ]
  },
  {
   "cell_type": "code",
   "execution_count": 269,
   "metadata": {
    "execution": {
     "iopub.execute_input": "2021-11-17T15:49:57.035892Z",
     "iopub.status.busy": "2021-11-17T15:49:57.034963Z",
     "iopub.status.idle": "2021-11-17T15:49:57.041602Z",
     "shell.execute_reply": "2021-11-17T15:49:57.040997Z",
     "shell.execute_reply.started": "2021-11-17T15:49:57.035852Z"
    }
   },
   "outputs": [],
   "source": [
    "Data_Analyst =['Data Analyst','Data Miner,Information technology','Data Miner',\n",
    "               'Predictive Modeler','Information technology, networking, or system administration' ]\n",
    "Data_Engineer =['A business discipline (accounting, economics, finance, etc.)', 'Business Analyst',\n",
    "                'Statistician', 'Mathematics or statistics', 'Data Scientist', 'Environmental science or geology', \n",
    "                'Humanities', 'Machine Learning Engineer', 'Medical or life sciences (biology, chemistry, medicine, etc.)', \n",
    "                'Physics or astronomy', 'Research Scientist', 'Researcher', 'Scientist/Researcher', 'Data Engineer',\n",
    "                'Social sciences (anthropology, psychology, sociology, etc.)','Software Developer/Software Engineer','Humanities (history, literature, philosophy, etc.)']\n",
    "Developer=['Developer Relations/Advocacy','Engineer','Engineering (non-computer focused)',\n",
    "           'Programmer','Software Engineer', 'Computer Scientist','Computer science (software engineering, etc.)', \n",
    "           'Fine arts or performing arts','Product Manager', \n",
    "           'Product/Project Manager','Program/Project Manager','DBA/Database Engineer']\n",
    "Not_Employeed =['Currently not employed', 'Not employed', 'Student']\n",
    "Others = ['I never declared a major', 'Other']"
   ]
  },
  {
   "cell_type": "code",
   "execution_count": 270,
   "metadata": {
    "execution": {
     "iopub.execute_input": "2021-11-17T15:49:57.043119Z",
     "iopub.status.busy": "2021-11-17T15:49:57.042801Z",
     "iopub.status.idle": "2021-11-17T15:49:57.064233Z",
     "shell.execute_reply": "2021-11-17T15:49:57.063610Z",
     "shell.execute_reply.started": "2021-11-17T15:49:57.043092Z"
    }
   },
   "outputs": [],
   "source": [
    "df21['Q5'].value_counts()"
   ]
  },
  {
   "cell_type": "code",
   "execution_count": 271,
   "metadata": {
    "execution": {
     "iopub.execute_input": "2021-11-17T15:49:57.065882Z",
     "iopub.status.busy": "2021-11-17T15:49:57.065378Z",
     "iopub.status.idle": "2021-11-17T15:49:57.084720Z",
     "shell.execute_reply": "2021-11-17T15:49:57.083970Z",
     "shell.execute_reply.started": "2021-11-17T15:49:57.065842Z"
    }
   },
   "outputs": [],
   "source": [
    "df21_Ea_DA=df21_Ea['Q3'][df21_Ea['Q5'].isin(Data_Analyst)].value_counts().to_frame().rename(columns = {'Q3':'Data_Analyst'})\n",
    "df21_Ea_DE=df21_Ea['Q3'][df21_Ea['Q5'].isin(Data_Engineer)].value_counts().to_frame().rename(columns = {'Q3':'Data_Engineer'})\n",
    "df21_Ea_D=df21_Ea['Q3'][df21_Ea['Q5'].isin(Developer)].value_counts().to_frame().rename(columns = {'Q3':'Developer'})\n",
    "df21_Ea_NE=df21_Ea['Q3'][df21_Ea['Q5'].isin(Not_Employeed)].value_counts().to_frame().rename(columns = {'Q3':'Not_Employeed'})\n",
    "df21_Ea_O=df21_Ea['Q3'][df21_Ea['Q5'].isin(Others)].value_counts().to_frame().rename(columns = {'Q3':'Others'})"
   ]
  },
  {
   "cell_type": "code",
   "execution_count": 272,
   "metadata": {
    "execution": {
     "iopub.execute_input": "2021-11-17T15:49:57.086171Z",
     "iopub.status.busy": "2021-11-17T15:49:57.085822Z",
     "iopub.status.idle": "2021-11-17T15:49:57.100876Z",
     "shell.execute_reply": "2021-11-17T15:49:57.100150Z",
     "shell.execute_reply.started": "2021-11-17T15:49:57.086143Z"
    }
   },
   "outputs": [],
   "source": [
    "job=(df21_Ea_DA.join(df21_Ea_DE).join(df21_Ea_D).join(df21_Ea_NE).join(df21_Ea_O))\n",
    "job"
   ]
  },
  {
   "cell_type": "code",
   "execution_count": 273,
   "metadata": {
    "execution": {
     "iopub.execute_input": "2021-11-17T15:49:57.102598Z",
     "iopub.status.busy": "2021-11-17T15:49:57.101773Z",
     "iopub.status.idle": "2021-11-17T15:49:57.116325Z",
     "shell.execute_reply": "2021-11-17T15:49:57.115574Z",
     "shell.execute_reply.started": "2021-11-17T15:49:57.102561Z"
    }
   },
   "outputs": [],
   "source": [
    "job.iloc[1,0:5].to_numpy()"
   ]
  },
  {
   "cell_type": "code",
   "execution_count": 274,
   "metadata": {
    "execution": {
     "iopub.execute_input": "2021-11-17T15:49:57.118255Z",
     "iopub.status.busy": "2021-11-17T15:49:57.117606Z",
     "iopub.status.idle": "2021-11-17T15:49:57.138035Z",
     "shell.execute_reply": "2021-11-17T15:49:57.137153Z",
     "shell.execute_reply.started": "2021-11-17T15:49:57.118220Z"
    }
   },
   "outputs": [],
   "source": [
    "job_ =job.columns\n",
    "fig = go.Figure(data=[\n",
    "    go.Bar(name='China', x = job_, \n",
    "                           y=job.iloc[0,0:5].to_numpy()),\n",
    "    go.Bar(name='Japan', x = job_, \n",
    "                             y=job.iloc[1,0:5].to_numpy()),\n",
    "    go.Bar(name='South Korea', x= job_, \n",
    "                            y=job.iloc[2,0:5].to_numpy()),\n",
    "    go.Bar(name='Taiwan', x= job_, \n",
    "                            y=job.iloc[3,0:5].to_numpy())\n",
    "    ])\n",
    "\n",
    "fig.update_layout(title_text=\"<b>21년 EastAisa kaggler들의 직업</b>\",title_font_size=35)\n",
    "fig.show()"
   ]
  },
  {
   "cell_type": "code",
   "execution_count": 413,
   "metadata": {
    "execution": {
     "iopub.execute_input": "2021-11-17T17:12:12.202140Z",
     "iopub.status.busy": "2021-11-17T17:12:12.201841Z",
     "iopub.status.idle": "2021-11-17T17:12:12.242448Z",
     "shell.execute_reply": "2021-11-17T17:12:12.241516Z",
     "shell.execute_reply.started": "2021-11-17T17:12:12.202109Z"
    }
   },
   "outputs": [],
   "source": [
    "#전체 코드\n",
    "\n",
    "Data_Analyst =['Data Analyst','Data Miner,Information technology','Data Miner',\n",
    "               'Predictive Modeler','Information technology, networking, or system administration' ]\n",
    "Data_Engineer =['A business discipline (accounting, economics, finance, etc.)', 'Business Analyst',\n",
    "                'Statistician', 'Mathematics or statistics', 'Data Scientist', 'Environmental science or geology', \n",
    "                'Humanities', 'Machine Learning Engineer', 'Medical or life sciences (biology, chemistry, medicine, etc.)', \n",
    "                'Physics or astronomy', 'Research Scientist', 'Researcher', 'Scientist/Researcher', 'Data Engineer',\n",
    "                'Social sciences (anthropology, psychology, sociology, etc.)','Software Developer/Software Engineer','Humanities (history, literature, philosophy, etc.)']\n",
    "Developer=['Developer Relations/Advocacy','Engineer','Engineering (non-computer focused)',\n",
    "           'Programmer','Software Engineer', 'Computer Scientist','Computer science (software engineering, etc.)', \n",
    "           'Fine arts or performing arts','Product Manager', \n",
    "           'Product/Project Manager','Program/Project Manager','DBA/Database Engineer']\n",
    "Not_Employeed =['Currently not employed', 'Not employed', 'Student']\n",
    "Others = ['I never declared a major', 'Other']\n",
    "\n",
    "df21_Ea_DA=df21_Ea['Q3'][df21_Ea['Q5'].isin(Data_Analyst)].value_counts().to_frame().rename(columns = {'Q3':'Data_Analyst'})\n",
    "df21_Ea_DE=df21_Ea['Q3'][df21_Ea['Q5'].isin(Data_Engineer)].value_counts().to_frame().rename(columns = {'Q3':'Data_Engineer'})\n",
    "df21_Ea_D=df21_Ea['Q3'][df21_Ea['Q5'].isin(Developer)].value_counts().to_frame().rename(columns = {'Q3':'Developer'})\n",
    "df21_Ea_NE=df21_Ea['Q3'][df21_Ea['Q5'].isin(Not_Employeed)].value_counts().to_frame().rename(columns = {'Q3':'Not_Employeed'})\n",
    "df21_Ea_O=df21_Ea['Q3'][df21_Ea['Q5'].isin(Others)].value_counts().to_frame().rename(columns = {'Q3':'Others'})\n",
    "\n",
    "job=(df21_Ea_DA.join(df21_Ea_DE).join(df21_Ea_D).join(df21_Ea_NE).join(df21_Ea_O))\n",
    "\n",
    "job_ =job.columns\n",
    "fig = go.Figure(data=[\n",
    "    go.Bar(name='China', x = job_, \n",
    "                           y=job.iloc[0,0:5].to_numpy()),\n",
    "    go.Bar(name='Japan', x = job_, \n",
    "                             y=job.iloc[1,0:5].to_numpy()),\n",
    "    go.Bar(name='South Korea', x= job_, \n",
    "                            y=job.iloc[2,0:5].to_numpy()),\n",
    "    go.Bar(name='Taiwan', x= job_, \n",
    "                            y=job.iloc[3,0:5].to_numpy())\n",
    "    ])\n",
    "\n",
    "fig.update_layout(title_text=\"<b>21년 EastAisa kaggler들의 직업</b>\",title_font_size=35)\n",
    "fig.show()"
   ]
  },
  {
   "cell_type": "markdown",
   "metadata": {},
   "source": [
    "### **경력**\n",
    "---\n",
    "- Q6"
   ]
  },
  {
   "cell_type": "code",
   "execution_count": 275,
   "metadata": {
    "execution": {
     "iopub.execute_input": "2021-11-17T15:49:57.140159Z",
     "iopub.status.busy": "2021-11-17T15:49:57.139535Z",
     "iopub.status.idle": "2021-11-17T15:49:57.153357Z",
     "shell.execute_reply": "2021-11-17T15:49:57.152461Z",
     "shell.execute_reply.started": "2021-11-17T15:49:57.140114Z"
    }
   },
   "outputs": [],
   "source": [
    "df21['Q6'].value_counts()"
   ]
  },
  {
   "cell_type": "code",
   "execution_count": 276,
   "metadata": {
    "execution": {
     "iopub.execute_input": "2021-11-17T15:49:57.155248Z",
     "iopub.status.busy": "2021-11-17T15:49:57.154595Z",
     "iopub.status.idle": "2021-11-17T15:49:57.169743Z",
     "shell.execute_reply": "2021-11-17T15:49:57.168723Z",
     "shell.execute_reply.started": "2021-11-17T15:49:57.155218Z"
    }
   },
   "outputs": [],
   "source": [
    "_3year = ['I have never written code', '< 1 years', '1-3 years']\n",
    "_5year = ['3-5 years ','5-10 years']\n",
    "_10year = ['10-20 years','20+ years']\n",
    "\n",
    "df21_3year = df21['Q6'][df21['Q6'].isin(_3year)]\n",
    "df21_5year = df21['Q6'][df21['Q6'].isin(_5year)]\n",
    "df21_10year = df21['Q6'][df21['Q6'].isin(_10year)]\n",
    "\n",
    "df21_3year.count()\n",
    "df21_5year.count()\n",
    "df21_10year.count()"
   ]
  },
  {
   "cell_type": "code",
   "execution_count": 277,
   "metadata": {
    "execution": {
     "iopub.execute_input": "2021-11-17T15:49:57.172626Z",
     "iopub.status.busy": "2021-11-17T15:49:57.172292Z",
     "iopub.status.idle": "2021-11-17T15:49:57.179373Z",
     "shell.execute_reply": "2021-11-17T15:49:57.178657Z",
     "shell.execute_reply.started": "2021-11-17T15:49:57.172582Z"
    }
   },
   "outputs": [],
   "source": [
    "df21_3year"
   ]
  },
  {
   "cell_type": "code",
   "execution_count": 278,
   "metadata": {
    "execution": {
     "iopub.execute_input": "2021-11-17T15:49:57.181101Z",
     "iopub.status.busy": "2021-11-17T15:49:57.180647Z",
     "iopub.status.idle": "2021-11-17T15:49:57.198932Z",
     "shell.execute_reply": "2021-11-17T15:49:57.197907Z",
     "shell.execute_reply.started": "2021-11-17T15:49:57.181061Z"
    }
   },
   "outputs": [],
   "source": [
    "years =['_3year','_5year', '_10year']\n",
    "values =[df21_3year.count(),\n",
    "         df21_5year.count(),\n",
    "        df21_10year.count()]\n",
    "\n",
    "fig = go.Figure(data=[\n",
    "    go.Bar(name='21년 World kaggler들의 경력', x=years, y=values ,orientation='v'),])\n",
    "\n",
    "fig.update_layout(title_text=\"<b>21년 World kaggler들의 경력</b>\",title_font_size=35)\n",
    "\n",
    "fig.show()"
   ]
  },
  {
   "cell_type": "code",
   "execution_count": 414,
   "metadata": {
    "execution": {
     "iopub.execute_input": "2021-11-17T17:13:04.084811Z",
     "iopub.status.busy": "2021-11-17T17:13:04.083970Z",
     "iopub.status.idle": "2021-11-17T17:13:04.108000Z",
     "shell.execute_reply": "2021-11-17T17:13:04.107374Z",
     "shell.execute_reply.started": "2021-11-17T17:13:04.084771Z"
    }
   },
   "outputs": [],
   "source": [
    "#전체 코드\n",
    "_3year = ['I have never written code', '< 1 years', '1-3 years']\n",
    "_5year = ['3-5 years ','5-10 years']\n",
    "_10year = ['10-20 years','20+ years']\n",
    "\n",
    "df21_3year = df21['Q6'][df21['Q6'].isin(_3year)]\n",
    "df21_5year = df21['Q6'][df21['Q6'].isin(_5year)]\n",
    "df21_10year = df21['Q6'][df21['Q6'].isin(_10year)]\n",
    "\n",
    "df21_3year.count()\n",
    "df21_5year.count()\n",
    "df21_10year.count()\n",
    "\n",
    "years =['_3year','_5year', '_10year']\n",
    "values =[df21_3year.count(),\n",
    "         df21_5year.count(),\n",
    "        df21_10year.count()]\n",
    "\n",
    "fig = go.Figure(data=[\n",
    "    go.Bar(name='21년 World kaggler들의 경력', x=years, y=values ,orientation='v'),])\n",
    "\n",
    "fig.update_layout(title_text=\"<b>21년 World kaggler들의 경력</b>\",title_font_size=35)\n",
    "\n",
    "fig.show()"
   ]
  },
  {
   "cell_type": "code",
   "execution_count": 279,
   "metadata": {
    "execution": {
     "iopub.execute_input": "2021-11-17T15:49:57.201102Z",
     "iopub.status.busy": "2021-11-17T15:49:57.200389Z",
     "iopub.status.idle": "2021-11-17T15:49:57.210067Z",
     "shell.execute_reply": "2021-11-17T15:49:57.209103Z",
     "shell.execute_reply.started": "2021-11-17T15:49:57.201059Z"
    }
   },
   "outputs": [],
   "source": [
    "df21_Ea['Q3']"
   ]
  },
  {
   "cell_type": "code",
   "execution_count": 280,
   "metadata": {
    "execution": {
     "iopub.execute_input": "2021-11-17T15:49:57.211981Z",
     "iopub.status.busy": "2021-11-17T15:49:57.211619Z",
     "iopub.status.idle": "2021-11-17T15:49:57.226576Z",
     "shell.execute_reply": "2021-11-17T15:49:57.225624Z",
     "shell.execute_reply.started": "2021-11-17T15:49:57.211949Z"
    }
   },
   "outputs": [],
   "source": [
    "_3year = ['I have never written code', '< 1 years', '1-3 years']\n",
    "_5year = ['3-5 years ','5-10 years']\n",
    "_10year = ['10-20 years','20+ years']\n",
    "\n",
    "df21_Ea_3year = df21_Ea['Q3'][df21_Ea['Q6'].isin(_3year)].value_counts().to_frame().rename(columns = {'Q3':'3year'})\n",
    "df21_Ea_5year = df21_Ea['Q3'][df21_Ea['Q6'].isin(_5year)].value_counts().to_frame().rename(columns = {'Q3':'5year'})\n",
    "df21_Ea_10year = df21_Ea['Q3'][df21_Ea['Q6'].isin(_10year)].value_counts().to_frame().rename(columns = {'Q3':'10year'})\n",
    "\n"
   ]
  },
  {
   "cell_type": "code",
   "execution_count": 281,
   "metadata": {
    "execution": {
     "iopub.execute_input": "2021-11-17T15:49:57.230332Z",
     "iopub.status.busy": "2021-11-17T15:49:57.230097Z",
     "iopub.status.idle": "2021-11-17T15:49:57.237495Z",
     "shell.execute_reply": "2021-11-17T15:49:57.236926Z",
     "shell.execute_reply.started": "2021-11-17T15:49:57.230294Z"
    }
   },
   "outputs": [],
   "source": [
    "df21_Ea_3year"
   ]
  },
  {
   "cell_type": "code",
   "execution_count": 282,
   "metadata": {
    "execution": {
     "iopub.execute_input": "2021-11-17T15:49:57.238945Z",
     "iopub.status.busy": "2021-11-17T15:49:57.238448Z",
     "iopub.status.idle": "2021-11-17T15:49:57.252646Z",
     "shell.execute_reply": "2021-11-17T15:49:57.252020Z",
     "shell.execute_reply.started": "2021-11-17T15:49:57.238912Z"
    }
   },
   "outputs": [],
   "source": [
    "df21_Ea_5year"
   ]
  },
  {
   "cell_type": "code",
   "execution_count": 283,
   "metadata": {
    "execution": {
     "iopub.execute_input": "2021-11-17T15:49:57.254517Z",
     "iopub.status.busy": "2021-11-17T15:49:57.254112Z",
     "iopub.status.idle": "2021-11-17T15:49:57.264128Z",
     "shell.execute_reply": "2021-11-17T15:49:57.263519Z",
     "shell.execute_reply.started": "2021-11-17T15:49:57.254477Z"
    }
   },
   "outputs": [],
   "source": [
    "df21_Ea_10year"
   ]
  },
  {
   "cell_type": "code",
   "execution_count": 284,
   "metadata": {
    "execution": {
     "iopub.execute_input": "2021-11-17T15:49:57.266129Z",
     "iopub.status.busy": "2021-11-17T15:49:57.265437Z",
     "iopub.status.idle": "2021-11-17T15:49:57.285878Z",
     "shell.execute_reply": "2021-11-17T15:49:57.284869Z",
     "shell.execute_reply.started": "2021-11-17T15:49:57.266089Z"
    }
   },
   "outputs": [],
   "source": [
    "career=(df21_Ea_3year.join(df21_Ea_5year).join(df21_Ea_10year))\n",
    "career"
   ]
  },
  {
   "cell_type": "code",
   "execution_count": 285,
   "metadata": {
    "execution": {
     "iopub.execute_input": "2021-11-17T15:49:57.289714Z",
     "iopub.status.busy": "2021-11-17T15:49:57.289466Z",
     "iopub.status.idle": "2021-11-17T15:49:57.298121Z",
     "shell.execute_reply": "2021-11-17T15:49:57.297153Z",
     "shell.execute_reply.started": "2021-11-17T15:49:57.289668Z"
    }
   },
   "outputs": [],
   "source": [
    "career.iloc[0,0:3] #China\n",
    "career.iloc[1,0:3] #Japan\n",
    "career.iloc[2,0:3] #South Korea\n",
    "career.iloc[3,0:3] #Taiwan"
   ]
  },
  {
   "cell_type": "code",
   "execution_count": 286,
   "metadata": {
    "execution": {
     "iopub.execute_input": "2021-11-17T15:49:57.300180Z",
     "iopub.status.busy": "2021-11-17T15:49:57.299438Z",
     "iopub.status.idle": "2021-11-17T15:49:57.321719Z",
     "shell.execute_reply": "2021-11-17T15:49:57.320813Z",
     "shell.execute_reply.started": "2021-11-17T15:49:57.300141Z"
    }
   },
   "outputs": [],
   "source": [
    "fig = go.Figure(data=[\n",
    "    go.Bar(name='China', x = years, \n",
    "                           y=career.iloc[0,0:3]),\n",
    "    go.Bar(name='Japan', x = years, \n",
    "                             y=career.iloc[1,0:3]),\n",
    "    go.Bar(name='South Korea', x= years, \n",
    "                            y=career.iloc[2,0:3]),\n",
    "    go.Bar(name='Taiwan', x= years, \n",
    "                            y=career.iloc[3,0:3])\n",
    "    ])\n",
    "\n",
    "fig.update_layout(title_text=\"<b>21년 EastAisa kaggler들의 경력</b>\",title_font_size=35)\n",
    "fig.show()"
   ]
  },
  {
   "cell_type": "code",
   "execution_count": 287,
   "metadata": {
    "execution": {
     "iopub.execute_input": "2021-11-17T15:49:57.323750Z",
     "iopub.status.busy": "2021-11-17T15:49:57.323325Z",
     "iopub.status.idle": "2021-11-17T15:49:57.350621Z",
     "shell.execute_reply": "2021-11-17T15:49:57.350039Z",
     "shell.execute_reply.started": "2021-11-17T15:49:57.323717Z"
    }
   },
   "outputs": [],
   "source": [
    "#최종 합친 코드\n",
    "_3year = ['I have never written code', '< 1 years', '1-3 years']\n",
    "_5year = ['3-5 years ','5-10 years']\n",
    "_10year = ['10-20 years','20+ years']\n",
    "\n",
    "df21_Ea_3year = df21_Ea['Q3'][df21_Ea['Q6'].isin(_3year)].value_counts().to_frame().rename(columns = {'Q3':'3year'})\n",
    "df21_Ea_5year = df21_Ea['Q3'][df21_Ea['Q6'].isin(_5year)].value_counts().to_frame().rename(columns = {'Q3':'5year'})\n",
    "df21_Ea_10year = df21_Ea['Q3'][df21_Ea['Q6'].isin(_10year)].value_counts().to_frame().rename(columns = {'Q3':'10year'})\n",
    "\n",
    "career=(df21_Ea_3year.join(df21_Ea_5year).join(df21_Ea_10year))\n",
    "career\n",
    "\n",
    "career.iloc[0,0:3] #China\n",
    "career.iloc[1,0:3] #Japan\n",
    "career.iloc[2,0:3] #South Korea\n",
    "career.iloc[3,0:3] #Taiwan\n",
    "\n",
    "fig = go.Figure(data=[\n",
    "    go.Bar(name='China', x = years, \n",
    "                           y=career.iloc[0,0:3]),\n",
    "    go.Bar(name='Japan', x = years, \n",
    "                             y=career.iloc[1,0:3]),\n",
    "    go.Bar(name='South Korea', x= years, \n",
    "                            y=career.iloc[2,0:3]),\n",
    "    go.Bar(name='Taiwan', x= years, \n",
    "                            y=career.iloc[3,0:3])\n",
    "    ])\n",
    "\n",
    "fig.update_layout(title_text=\"<b>21년 EastAisa kaggler들의 경력</b>\",title_font_size=35)\n",
    "fig.show()"
   ]
  },
  {
   "cell_type": "markdown",
   "metadata": {},
   "source": [
    "### **연봉**\n",
    "---\n",
    "- Q25"
   ]
  },
  {
   "cell_type": "code",
   "execution_count": 288,
   "metadata": {
    "execution": {
     "iopub.execute_input": "2021-11-17T15:49:57.352224Z",
     "iopub.status.busy": "2021-11-17T15:49:57.351513Z",
     "iopub.status.idle": "2021-11-17T15:49:57.366643Z",
     "shell.execute_reply": "2021-11-17T15:49:57.365773Z",
     "shell.execute_reply.started": "2021-11-17T15:49:57.352187Z"
    }
   },
   "outputs": [],
   "source": [
    "#마지막 행 삭제해줌\n",
    "df21_=(df21['Q25'].value_counts().to_frame())\n",
    "df21_=df21_.drop(df21_.index[26])\n",
    "df21_"
   ]
  },
  {
   "cell_type": "code",
   "execution_count": 289,
   "metadata": {
    "execution": {
     "iopub.execute_input": "2021-11-17T15:49:57.368395Z",
     "iopub.status.busy": "2021-11-17T15:49:57.368034Z",
     "iopub.status.idle": "2021-11-17T15:49:57.379404Z",
     "shell.execute_reply": "2021-11-17T15:49:57.378523Z",
     "shell.execute_reply.started": "2021-11-17T15:49:57.368334Z"
    }
   },
   "outputs": [],
   "source": [
    "df21_['Q25'].index"
   ]
  },
  {
   "cell_type": "code",
   "execution_count": 290,
   "metadata": {
    "execution": {
     "iopub.execute_input": "2021-11-17T15:49:57.381056Z",
     "iopub.status.busy": "2021-11-17T15:49:57.380620Z",
     "iopub.status.idle": "2021-11-17T15:49:57.391649Z",
     "shell.execute_reply": "2021-11-17T15:49:57.390913Z",
     "shell.execute_reply.started": "2021-11-17T15:49:57.381023Z"
    }
   },
   "outputs": [],
   "source": [
    "df21_['Q25'].to_numpy()"
   ]
  },
  {
   "cell_type": "code",
   "execution_count": 291,
   "metadata": {
    "execution": {
     "iopub.execute_input": "2021-11-17T15:49:57.393200Z",
     "iopub.status.busy": "2021-11-17T15:49:57.392994Z",
     "iopub.status.idle": "2021-11-17T15:49:57.408898Z",
     "shell.execute_reply": "2021-11-17T15:49:57.407972Z",
     "shell.execute_reply.started": "2021-11-17T15:49:57.393176Z"
    }
   },
   "outputs": [],
   "source": [
    "compensation = df21_['Q25'].index\n",
    "fig = go.Figure(data=[\n",
    "    go.Bar(name='21년 World kaggler들의 연봉', x=compensation, y=df21_['Q25'].to_numpy() ,orientation='v')])\n",
    "\n",
    "fig.update_layout(title_text=\"<b>21년 World kaggler들의 연봉</b>\",title_font_size=35)\n",
    "\n",
    "fig.show()"
   ]
  },
  {
   "cell_type": "code",
   "execution_count": 415,
   "metadata": {
    "execution": {
     "iopub.execute_input": "2021-11-17T17:13:44.821154Z",
     "iopub.status.busy": "2021-11-17T17:13:44.819927Z",
     "iopub.status.idle": "2021-11-17T17:13:44.845963Z",
     "shell.execute_reply": "2021-11-17T17:13:44.845268Z",
     "shell.execute_reply.started": "2021-11-17T17:13:44.821098Z"
    }
   },
   "outputs": [],
   "source": [
    "#전체 코드\n",
    "\n",
    "#마지막 행 삭제해줌\n",
    "df21_=(df21['Q25'].value_counts().to_frame())\n",
    "df21_=df21_.drop(df21_.index[26])\n",
    "df21_\n",
    "\n",
    "compensation = df21_['Q25'].index\n",
    "fig = go.Figure(data=[\n",
    "    go.Bar(name='21년 World kaggler들의 연봉', x=compensation, y=df21_['Q25'].to_numpy() ,orientation='v')])\n",
    "\n",
    "fig.update_layout(title_text=\"<b>21년 World kaggler들의 연봉</b>\",title_font_size=35)\n",
    "\n",
    "fig.show()"
   ]
  },
  {
   "cell_type": "code",
   "execution_count": 292,
   "metadata": {
    "execution": {
     "iopub.execute_input": "2021-11-17T15:49:57.410649Z",
     "iopub.status.busy": "2021-11-17T15:49:57.410379Z",
     "iopub.status.idle": "2021-11-17T15:49:57.426635Z",
     "shell.execute_reply": "2021-11-17T15:49:57.425837Z",
     "shell.execute_reply.started": "2021-11-17T15:49:57.410588Z"
    }
   },
   "outputs": [],
   "source": [
    "#일본인들 연봉\n",
    "df21_Ea['Q25'][df21_Ea['Q3'] =='Japan'].value_counts()"
   ]
  },
  {
   "cell_type": "code",
   "execution_count": 293,
   "metadata": {
    "execution": {
     "iopub.execute_input": "2021-11-17T15:49:57.428796Z",
     "iopub.status.busy": "2021-11-17T15:49:57.428319Z",
     "iopub.status.idle": "2021-11-17T15:49:57.438397Z",
     "shell.execute_reply": "2021-11-17T15:49:57.437551Z",
     "shell.execute_reply.started": "2021-11-17T15:49:57.428751Z"
    }
   },
   "outputs": [],
   "source": [
    "df21_Ea['Q3'].value_counts()"
   ]
  },
  {
   "cell_type": "code",
   "execution_count": 323,
   "metadata": {
    "execution": {
     "iopub.execute_input": "2021-11-17T16:01:39.488564Z",
     "iopub.status.busy": "2021-11-17T16:01:39.487775Z",
     "iopub.status.idle": "2021-11-17T16:01:39.497563Z",
     "shell.execute_reply": "2021-11-17T16:01:39.496965Z",
     "shell.execute_reply.started": "2021-11-17T16:01:39.488525Z"
    }
   },
   "outputs": [],
   "source": [
    "df21_Ea['Q25'][df21_Ea['Q3'] =='Taiwan'].value_counts()"
   ]
  },
  {
   "cell_type": "code",
   "execution_count": 294,
   "metadata": {
    "execution": {
     "iopub.execute_input": "2021-11-17T15:49:57.440392Z",
     "iopub.status.busy": "2021-11-17T15:49:57.439883Z",
     "iopub.status.idle": "2021-11-17T15:49:57.462275Z",
     "shell.execute_reply": "2021-11-17T15:49:57.461642Z",
     "shell.execute_reply.started": "2021-11-17T15:49:57.440354Z"
    }
   },
   "outputs": [],
   "source": [
    "compensation = df21_['Q25'].index\n",
    "\n",
    "fig = go.Figure(data=[\n",
    "    go.Bar(name='China', x = compensation, \n",
    "                           y = df21_Ea['Q25'][df21_Ea['Q3'] =='Japan'].value_counts()),\n",
    "    \n",
    "    go.Bar(name='Japan', x = compensation, \n",
    "                             y=df21_Ea['Q25'][df21_Ea['Q3'] =='Taiwan'].value_counts()),\n",
    "    \n",
    "    go.Bar(name='South Korea', x = compensation, \n",
    "                            y=df21_Ea['Q25'][df21_Ea['Q3'] =='South Korea'].value_counts()),\n",
    "    \n",
    "    go.Bar(name='Taiwan', x = compensation, \n",
    "                            y=df21_Ea['Q25'][df21_Ea['Q3'] =='China'].value_counts())\n",
    "    ])\n",
    "\n",
    "fig.update_layout(title_text=\"<b>21년 EastAisa kaggler들의 연봉</b>\",title_font_size=35)\n",
    "fig.show()"
   ]
  },
  {
   "cell_type": "code",
   "execution_count": 416,
   "metadata": {
    "execution": {
     "iopub.execute_input": "2021-11-17T17:14:33.655586Z",
     "iopub.status.busy": "2021-11-17T17:14:33.654727Z",
     "iopub.status.idle": "2021-11-17T17:14:33.675973Z",
     "shell.execute_reply": "2021-11-17T17:14:33.675202Z",
     "shell.execute_reply.started": "2021-11-17T17:14:33.655541Z"
    }
   },
   "outputs": [],
   "source": [
    "#전체 코드\n",
    "\n",
    "compensation = df21_['Q25'].index\n",
    "\n",
    "fig = go.Figure(data=[\n",
    "    go.Bar(name='China', x = compensation, \n",
    "                           y = df21_Ea['Q25'][df21_Ea['Q3'] =='Japan'].value_counts()),\n",
    "    \n",
    "    go.Bar(name='Japan', x = compensation, \n",
    "                             y=df21_Ea['Q25'][df21_Ea['Q3'] =='Taiwan'].value_counts()),\n",
    "    \n",
    "    go.Bar(name='South Korea', x = compensation, \n",
    "                            y=df21_Ea['Q25'][df21_Ea['Q3'] =='South Korea'].value_counts()),\n",
    "    \n",
    "    go.Bar(name='Taiwan', x = compensation, \n",
    "                            y=df21_Ea['Q25'][df21_Ea['Q3'] =='China'].value_counts())\n",
    "    ])\n",
    "\n",
    "fig.update_layout(title_text=\"<b>21년 EastAisa kaggler들의 연봉</b>\",title_font_size=35)\n",
    "fig.show()"
   ]
  },
  {
   "cell_type": "markdown",
   "metadata": {},
   "source": [
    "### **언어**\n",
    "---\n",
    "- Q7"
   ]
  },
  {
   "cell_type": "code",
   "execution_count": 295,
   "metadata": {
    "execution": {
     "iopub.execute_input": "2021-11-17T15:49:57.463631Z",
     "iopub.status.busy": "2021-11-17T15:49:57.463406Z",
     "iopub.status.idle": "2021-11-17T15:49:57.490525Z",
     "shell.execute_reply": "2021-11-17T15:49:57.489846Z",
     "shell.execute_reply.started": "2021-11-17T15:49:57.463604Z"
    }
   },
   "outputs": [],
   "source": [
    "df21_p = df21['Q7_Part_1'].value_counts().to_frame() #python\n",
    "df21_r = df21['Q7_Part_2'].value_counts().to_frame() #r\n",
    "df21_s = df21['Q7_Part_3'].value_counts().to_frame() #sql\n",
    "df21_c = df21['Q7_Part_4'].value_counts().to_frame() #c\n",
    "df21_cc = df21['Q7_Part_5'].value_counts().to_frame() #c++\n",
    "df21_j = df21['Q7_Part_6'].value_counts().to_frame() #java\n",
    "df21_js = df21['Q7_Part_7'].value_counts().to_frame() #javascript\n",
    "df21_ju = df21['Q7_Part_8'].value_counts().to_frame() #julia\n",
    "df21_sw = df21['Q7_Part_9'].value_counts().to_frame() #swift\n",
    "df21_b = df21['Q7_Part_10'].value_counts().to_frame() #bash\n",
    "df21_ma = df21['Q7_Part_11'].value_counts().to_frame() #matlab\n",
    "df21_n = df21['Q7_Part_12'].value_counts().to_frame() #none"
   ]
  },
  {
   "cell_type": "code",
   "execution_count": 296,
   "metadata": {
    "execution": {
     "iopub.execute_input": "2021-11-17T15:49:57.492039Z",
     "iopub.status.busy": "2021-11-17T15:49:57.491658Z",
     "iopub.status.idle": "2021-11-17T15:49:57.505161Z",
     "shell.execute_reply": "2021-11-17T15:49:57.504542Z",
     "shell.execute_reply.started": "2021-11-17T15:49:57.492008Z"
    }
   },
   "outputs": [],
   "source": [
    "df21_p.iloc[0,0]"
   ]
  },
  {
   "cell_type": "code",
   "execution_count": 297,
   "metadata": {
    "execution": {
     "iopub.execute_input": "2021-11-17T15:49:57.506716Z",
     "iopub.status.busy": "2021-11-17T15:49:57.506392Z",
     "iopub.status.idle": "2021-11-17T15:49:57.522609Z",
     "shell.execute_reply": "2021-11-17T15:49:57.521964Z",
     "shell.execute_reply.started": "2021-11-17T15:49:57.506664Z"
    }
   },
   "outputs": [],
   "source": [
    "languages = ['Python','R','SQL','C','C++','Java','Javascript','Julia','Swift','Bash','MATLAB','None']\n",
    "\n",
    "fig = go.Figure(data=[\n",
    "    go.Bar(name='21년 World kaggler들이 사용하는 언어', x = languages, \n",
    "                                                     y = [df21_p.iloc[0,0],\n",
    "                                                          df21_r.iloc[0,0],\n",
    "                                                          df21_s.iloc[0,0],\n",
    "                                                          df21_c.iloc[0,0],\n",
    "                                                          df21_cc.iloc[0,0],\n",
    "                                                          df21_j.iloc[0,0],\n",
    "                                                          df21_js.iloc[0,0],\n",
    "                                                          df21_ju.iloc[0,0],\n",
    "                                                          df21_sw.iloc[0,0],\n",
    "                                                          df21_b.iloc[0,0],\n",
    "                                                          df21_ma.iloc[0,0],\n",
    "                                                          df21_n.iloc[0,0]],orientation='v')\n",
    "                    \n",
    "                    ])\n",
    "\n",
    "fig.update_layout(title_text=\"<b>21년 World kaggler들이 사용하는 언어</b>\",title_font_size=35)\n",
    "\n",
    "fig.show()"
   ]
  },
  {
   "cell_type": "code",
   "execution_count": 417,
   "metadata": {
    "execution": {
     "iopub.execute_input": "2021-11-17T17:17:07.191284Z",
     "iopub.status.busy": "2021-11-17T17:17:07.190611Z",
     "iopub.status.idle": "2021-11-17T17:17:07.229647Z",
     "shell.execute_reply": "2021-11-17T17:17:07.228864Z",
     "shell.execute_reply.started": "2021-11-17T17:17:07.191240Z"
    }
   },
   "outputs": [],
   "source": [
    "#코드 전체\n",
    "\n",
    "df21_p = df21['Q7_Part_1'].value_counts().to_frame() #python\n",
    "df21_r = df21['Q7_Part_2'].value_counts().to_frame() #r\n",
    "df21_s = df21['Q7_Part_3'].value_counts().to_frame() #sql\n",
    "df21_c = df21['Q7_Part_4'].value_counts().to_frame() #c\n",
    "df21_cc = df21['Q7_Part_5'].value_counts().to_frame() #c++\n",
    "df21_j = df21['Q7_Part_6'].value_counts().to_frame() #java\n",
    "df21_js = df21['Q7_Part_7'].value_counts().to_frame() #javascript\n",
    "df21_ju = df21['Q7_Part_8'].value_counts().to_frame() #julia\n",
    "df21_sw = df21['Q7_Part_9'].value_counts().to_frame() #swift\n",
    "df21_b = df21['Q7_Part_10'].value_counts().to_frame() #bash\n",
    "df21_ma = df21['Q7_Part_11'].value_counts().to_frame() #matlab\n",
    "df21_n = df21['Q7_Part_12'].value_counts().to_frame() #none\n",
    "\n",
    "languages = ['Python','R','SQL','C','C++','Java','Javascript','Julia','Swift','Bash','MATLAB','None']\n",
    "\n",
    "fig = go.Figure(data=[\n",
    "    go.Bar(name='21년 World kaggler들이 사용하는 언어', x = languages, \n",
    "                                                     y = [df21_p.iloc[0,0],\n",
    "                                                          df21_r.iloc[0,0],\n",
    "                                                          df21_s.iloc[0,0],\n",
    "                                                          df21_c.iloc[0,0],\n",
    "                                                          df21_cc.iloc[0,0],\n",
    "                                                          df21_j.iloc[0,0],\n",
    "                                                          df21_js.iloc[0,0],\n",
    "                                                          df21_ju.iloc[0,0],\n",
    "                                                          df21_sw.iloc[0,0],\n",
    "                                                          df21_b.iloc[0,0],\n",
    "                                                          df21_ma.iloc[0,0],\n",
    "                                                          df21_n.iloc[0,0]],orientation='v')\n",
    "                    \n",
    "                    ])\n",
    "\n",
    "fig.update_layout(title_text=\"<b>21년 World kaggler들이 사용하는 언어</b>\",title_font_size=35)\n",
    "\n",
    "fig.show()"
   ]
  },
  {
   "cell_type": "code",
   "execution_count": 363,
   "metadata": {
    "execution": {
     "iopub.execute_input": "2021-11-17T16:39:41.084470Z",
     "iopub.status.busy": "2021-11-17T16:39:41.084178Z",
     "iopub.status.idle": "2021-11-17T16:39:41.195379Z",
     "shell.execute_reply": "2021-11-17T16:39:41.194484Z",
     "shell.execute_reply.started": "2021-11-17T16:39:41.084438Z"
    }
   },
   "outputs": [],
   "source": [
    "df21_lan_ch_p=df21_Ea['Q7_Part_1'][df21_Ea['Q3']=='China'].value_counts().to_frame().rename(columns = {'Q7_Part_1':'cnt'})\n",
    "df21_lan_ch_r=df21_Ea['Q7_Part_2'][df21_Ea['Q3']=='China'].value_counts().to_frame().rename(columns = {'Q7_Part_2':'cnt'})\n",
    "df21_lan_ch_s=df21_Ea['Q7_Part_3'][df21_Ea['Q3']=='China'].value_counts().to_frame().rename(columns = {'Q7_Part_3':'cnt'})\n",
    "df21_lan_ch_c=df21_Ea['Q7_Part_4'][df21_Ea['Q3']=='China'].value_counts().to_frame().rename(columns = {'Q7_Part_4':'cnt'})\n",
    "df21_lan_ch_cc=df21_Ea['Q7_Part_5'][df21_Ea['Q3']=='China'].value_counts().to_frame().rename(columns = {'Q7_Part_5':'cnt'})\n",
    "df21_lan_ch_j=df21_Ea['Q7_Part_6'][df21_Ea['Q3']=='China'].value_counts().to_frame().rename(columns = {'Q7_Part_6':'cnt'})\n",
    "df21_lan_ch_js=df21_Ea['Q7_Part_7'][df21_Ea['Q3']=='China'].value_counts().to_frame().rename(columns = {'Q7_Part_7':'cnt'})\n",
    "df21_lan_ch_ju=df21_Ea['Q7_Part_8'][df21_Ea['Q3']=='China'].value_counts().to_frame().rename(columns = {'Q7_Part_8':'cnt'})\n",
    "df21_lan_ch_sw=df21_Ea['Q7_Part_9'][df21_Ea['Q3']=='China'].value_counts().to_frame().rename(columns = {'Q7_Part_9':'cnt'})\n",
    "df21_lan_ch_b=df21_Ea['Q7_Part_10'][df21_Ea['Q3']=='China'].value_counts().to_frame().rename(columns = {'Q7_Part_10':'cnt'})\n",
    "df21_lan_ch_ma=df21_Ea['Q7_Part_11'][df21_Ea['Q3']=='China'].value_counts().to_frame().rename(columns = {'Q7_Part_11':'cnt'})\n",
    "df21_lan_ch_n=df21_Ea['Q7_Part_12'][df21_Ea['Q3']=='China'].value_counts().to_frame().rename(columns = {'Q7_Part_12':'cnt'})\n",
    "ch_lan = pd.concat([df21_lan_ch_p,df21_lan_ch_r,df21_lan_ch_s,df21_lan_ch_c,df21_lan_ch_cc,df21_lan_ch_j,df21_lan_ch_js,df21_lan_ch_ju,df21_lan_ch_sw,df21_lan_ch_b,df21_lan_ch_ma,df21_lan_ch_n])\n",
    "\n",
    "\n",
    "df21_lan_jp_p=df21_Ea['Q7_Part_1'][df21_Ea['Q3']=='Japan'].value_counts().to_frame().rename(columns = {'Q7_Part_1':'cnt'})\n",
    "df21_lan_jp_r=df21_Ea['Q7_Part_2'][df21_Ea['Q3']=='Japan'].value_counts().to_frame().rename(columns = {'Q7_Part_2':'cnt'})\n",
    "df21_lan_jp_s=df21_Ea['Q7_Part_3'][df21_Ea['Q3']=='Japan'].value_counts().to_frame().rename(columns = {'Q7_Part_3':'cnt'})\n",
    "df21_lan_jp_c=df21_Ea['Q7_Part_4'][df21_Ea['Q3']=='Japan'].value_counts().to_frame().rename(columns = {'Q7_Part_4':'cnt'})\n",
    "df21_lan_jp_cc=df21_Ea['Q7_Part_5'][df21_Ea['Q3']=='Japan'].value_counts().to_frame().rename(columns = {'Q7_Part_5':'cnt'})\n",
    "df21_lan_jp_j=df21_Ea['Q7_Part_6'][df21_Ea['Q3']=='Japan'].value_counts().to_frame().rename(columns = {'Q7_Part_6':'cnt'})\n",
    "df21_lan_jp_js=df21_Ea['Q7_Part_7'][df21_Ea['Q3']=='Japan'].value_counts().to_frame().rename(columns = {'Q7_Part_7':'cnt'})\n",
    "df21_lan_jp_ju=df21_Ea['Q7_Part_8'][df21_Ea['Q3']=='Japan'].value_counts().to_frame().rename(columns = {'Q7_Part_8':'cnt'})\n",
    "df21_lan_jp_sw=df21_Ea['Q7_Part_9'][df21_Ea['Q3']=='Japan'].value_counts().to_frame().rename(columns = {'Q7_Part_9':'cnt'})\n",
    "df21_lan_jp_b=df21_Ea['Q7_Part_10'][df21_Ea['Q3']=='Japan'].value_counts().to_frame().rename(columns = {'Q7_Part_10':'cnt'})\n",
    "df21_lan_jp_ma=df21_Ea['Q7_Part_11'][df21_Ea['Q3']=='Japan'].value_counts().to_frame().rename(columns = {'Q7_Part_11':'cnt'})\n",
    "df21_lan_jp_n=df21_Ea['Q7_Part_12'][df21_Ea['Q3']=='Japan'].value_counts().to_frame().rename(columns = {'Q7_Part_12':'cnt'})\n",
    "jp_lan = pd.concat([df21_lan_jp_p,df21_lan_jp_r,df21_lan_jp_s,df21_lan_jp_c,df21_lan_jp_cc,df21_lan_jp_j,df21_lan_jp_js,df21_lan_jp_ju,df21_lan_jp_sw,df21_lan_jp_b,df21_lan_jp_ma,df21_lan_jp_n])\n",
    "\n",
    "\n",
    "df21_lan_tw_p=df21_Ea['Q7_Part_1'][df21_Ea['Q3']=='Taiwan'].value_counts().to_frame().rename(columns = {'Q7_Part_1':'cnt'})\n",
    "df21_lan_tw_r=df21_Ea['Q7_Part_2'][df21_Ea['Q3']=='Taiwan'].value_counts().to_frame().rename(columns = {'Q7_Part_2':'cnt'})\n",
    "df21_lan_tw_s=df21_Ea['Q7_Part_3'][df21_Ea['Q3']=='Taiwan'].value_counts().to_frame().rename(columns = {'Q7_Part_3':'cnt'})\n",
    "df21_lan_tw_c=df21_Ea['Q7_Part_4'][df21_Ea['Q3']=='Taiwan'].value_counts().to_frame().rename(columns = {'Q7_Part_4':'cnt'})\n",
    "df21_lan_tw_cc=df21_Ea['Q7_Part_5'][df21_Ea['Q3']=='Taiwan'].value_counts().to_frame().rename(columns = {'Q7_Part_5':'cnt'})\n",
    "df21_lan_tw_j=df21_Ea['Q7_Part_6'][df21_Ea['Q3']=='Taiwan'].value_counts().to_frame().rename(columns = {'Q7_Part_6':'cnt'})\n",
    "df21_lan_tw_js=df21_Ea['Q7_Part_7'][df21_Ea['Q3']=='Taiwan'].value_counts().to_frame().rename(columns = {'Q7_Part_7':'cnt'})\n",
    "df21_lan_tw_ju=df21_Ea['Q7_Part_8'][df21_Ea['Q3']=='Taiwan'].value_counts().to_frame().rename(columns = {'Q7_Part_8':'cnt'})\n",
    "df21_lan_tw_sw=df21_Ea['Q7_Part_9'][df21_Ea['Q3']=='Taiwan'].value_counts().to_frame().rename(columns = {'Q7_Part_9':'cnt'})\n",
    "df21_lan_tw_b=df21_Ea['Q7_Part_10'][df21_Ea['Q3']=='Taiwan'].value_counts().to_frame().rename(columns = {'Q7_Part_10':'cnt'})\n",
    "df21_lan_tw_ma=df21_Ea['Q7_Part_11'][df21_Ea['Q3']=='Taiwan'].value_counts().to_frame().rename(columns = {'Q7_Part_11':'cnt'})\n",
    "df21_lan_tw_n=df21_Ea['Q7_Part_12'][df21_Ea['Q3']=='Taiwan'].value_counts().to_frame().rename(columns = {'Q7_Part_12':'cnt'})\n",
    "tw_lan = pd.concat([df21_lan_tw_p,df21_lan_tw_r,df21_lan_tw_s,df21_lan_tw_c,df21_lan_tw_cc,df21_lan_tw_j,df21_lan_tw_js,df21_lan_tw_ju,df21_lan_tw_sw,df21_lan_tw_b,df21_lan_tw_ma,df21_lan_tw_n])\n",
    "\n",
    "\n",
    "df21_lan_ko_p=df21_Ea['Q7_Part_1'][df21_Ea['Q3']=='South Korea'].value_counts().to_frame().rename(columns = {'Q7_Part_1':'cnt'})\n",
    "df21_lan_ko_r=df21_Ea['Q7_Part_2'][df21_Ea['Q3']=='South Korea'].value_counts().to_frame().rename(columns = {'Q7_Part_2':'cnt'})\n",
    "df21_lan_ko_s=df21_Ea['Q7_Part_3'][df21_Ea['Q3']=='South Korea'].value_counts().to_frame().rename(columns = {'Q7_Part_3':'cnt'})\n",
    "df21_lan_ko_c=df21_Ea['Q7_Part_4'][df21_Ea['Q3']=='South Korea'].value_counts().to_frame().rename(columns = {'Q7_Part_4':'cnt'})\n",
    "df21_lan_ko_cc=df21_Ea['Q7_Part_5'][df21_Ea['Q3']=='South Korea'].value_counts().to_frame().rename(columns = {'Q7_Part_5':'cnt'})\n",
    "df21_lan_ko_j=df21_Ea['Q7_Part_6'][df21_Ea['Q3']=='South Korea'].value_counts().to_frame().rename(columns = {'Q7_Part_6':'cnt'})\n",
    "df21_lan_ko_js=df21_Ea['Q7_Part_7'][df21_Ea['Q3']=='South Korea'].value_counts().to_frame().rename(columns = {'Q7_Part_7':'cnt'})\n",
    "df21_lan_ko_ju=df21_Ea['Q7_Part_8'][df21_Ea['Q3']=='South Korea'].value_counts().to_frame().rename(columns = {'Q7_Part_8':'cnt'})\n",
    "df21_lan_ko_sw=df21_Ea['Q7_Part_9'][df21_Ea['Q3']=='South Korea'].value_counts().to_frame().rename(columns = {'Q7_Part_9':'cnt'})\n",
    "df21_lan_ko_b=df21_Ea['Q7_Part_10'][df21_Ea['Q3']=='South Korea'].value_counts().to_frame().rename(columns = {'Q7_Part_10':'cnt'})\n",
    "df21_lan_ko_ma=df21_Ea['Q7_Part_11'][df21_Ea['Q3']=='South Korea'].value_counts().to_frame().rename(columns = {'Q7_Part_11':'cnt'})\n",
    "df21_lan_ko_n=df21_Ea['Q7_Part_12'][df21_Ea['Q3']=='South Korea'].value_counts().to_frame().rename(columns = {'Q7_Part_12':'cnt'})\n",
    "ko_lan = pd.concat([df21_lan_ko_p,df21_lan_ko_r,df21_lan_ko_s,df21_lan_ko_c,df21_lan_ko_cc,df21_lan_ko_j,df21_lan_ko_js,df21_lan_ko_ju,df21_lan_ko_sw,df21_lan_ko_b,df21_lan_ko_ma,df21_lan_ko_n])"
   ]
  },
  {
   "cell_type": "code",
   "execution_count": 377,
   "metadata": {
    "execution": {
     "iopub.execute_input": "2021-11-17T16:48:45.302865Z",
     "iopub.status.busy": "2021-11-17T16:48:45.302446Z",
     "iopub.status.idle": "2021-11-17T16:48:45.308817Z",
     "shell.execute_reply": "2021-11-17T16:48:45.308205Z",
     "shell.execute_reply.started": "2021-11-17T16:48:45.302824Z"
    }
   },
   "outputs": [],
   "source": [
    "ch_lan['cnt'].to_list()"
   ]
  },
  {
   "cell_type": "code",
   "execution_count": 410,
   "metadata": {
    "execution": {
     "iopub.execute_input": "2021-11-17T17:06:18.212848Z",
     "iopub.status.busy": "2021-11-17T17:06:18.212141Z",
     "iopub.status.idle": "2021-11-17T17:06:18.228818Z",
     "shell.execute_reply": "2021-11-17T17:06:18.228163Z",
     "shell.execute_reply.started": "2021-11-17T17:06:18.212806Z"
    }
   },
   "outputs": [],
   "source": [
    "languages = ['Python','R','SQL','C','C++','Java','Javascript','Julia','Swift','Bash','MATLAB','None']\n",
    "\n",
    "fig = go.Figure(data=[\n",
    "    go.Bar(name='China', x = languages, \n",
    "                         y = ch_lan['cnt'].tolist()),\n",
    "    \n",
    "    go.Bar(name='Japan', x = languages, \n",
    "                             y=jp_lan['cnt'].tolist()),\n",
    "    \n",
    "    go.Bar(name='South Korea', x = languages, \n",
    "                            y=ko_lan['cnt'].tolist()),\n",
    "    \n",
    "    go.Bar(name='Taiwan', x = languages, \n",
    "                            y=tw_lan['cnt'].tolist())\n",
    "          ])\n",
    "\n",
    "fig.update_layout(title_text=\"<b>21년 EastAisa kaggler들이 사용하는 언어</b>\",title_font_size=35)\n",
    "fig.show()"
   ]
  }
 ],
 "metadata": {
  "kernelspec": {
   "display_name": "Python 3",
   "language": "python",
   "name": "python3"
  },
  "language_info": {
   "codemirror_mode": {
    "name": "ipython",
    "version": 3
   },
   "file_extension": ".py",
   "mimetype": "text/x-python",
   "name": "python",
   "nbconvert_exporter": "python",
   "pygments_lexer": "ipython3",
   "version": "3.8.8"
  }
 },
 "nbformat": 4,
 "nbformat_minor": 4
}
