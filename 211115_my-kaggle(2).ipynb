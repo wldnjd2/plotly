{
 "cells": [
  {
   "cell_type": "markdown",
   "metadata": {},
   "source": [
    "### **라이브러리 불러오기 & 캐글 데이터 불러오기**\n",
    "---"
   ]
  },
  {
   "cell_type": "code",
   "execution_count": 187,
   "metadata": {
    "_cell_guid": "b1076dfc-b9ad-4769-8c92-a6c4dae69d19",
    "_uuid": "8f2839f25d086af736a60e9eeb907d3b93b6e0e5",
    "execution": {
     "iopub.execute_input": "2021-11-15T17:04:26.556296Z",
     "iopub.status.busy": "2021-11-15T17:04:26.555925Z",
     "iopub.status.idle": "2021-11-15T17:04:26.579498Z",
     "shell.execute_reply": "2021-11-15T17:04:26.578791Z",
     "shell.execute_reply.started": "2021-11-15T17:04:26.556248Z"
    }
   },
   "outputs": [],
   "source": [
    "import numpy as np\n",
    "import pandas as pd\n",
    "import seaborn as sns\n",
    "import matplotlib.pylab as plt\n",
    "\n",
    "import plotly.io as pio\n",
    "import plotly.express as px\n",
    "import plotly.graph_objects as go\n",
    "import plotly.figure_factory as ff\n",
    "from plotly.subplots import make_subplots\n",
    "from plotly.offline import init_notebook_mode, iplot\n",
    "init_notebook_mode(connected=True)\n",
    "pio.templates.default = \"none\"\n",
    "# import plotly.offline as py\n",
    "# py.offline.init_notebook_mode()\n",
    "\n",
    "import os\n",
    "for dirname, _, filenames in os.walk('/kaggle/input'):\n",
    "    for filename in filenames:\n",
    "        print(os.path.join(dirname, filename))\n",
    "\n",
    "import warnings\n",
    "warnings.filterwarnings(\"ignore\")"
   ]
  },
  {
   "cell_type": "code",
   "execution_count": 188,
   "metadata": {
    "execution": {
     "iopub.execute_input": "2021-11-15T17:04:26.581713Z",
     "iopub.status.busy": "2021-11-15T17:04:26.581014Z",
     "iopub.status.idle": "2021-11-15T17:04:30.476810Z",
     "shell.execute_reply": "2021-11-15T17:04:30.475811Z",
     "shell.execute_reply.started": "2021-11-15T17:04:26.581674Z"
    }
   },
   "outputs": [],
   "source": [
    "df17= pd.read_csv(\"/kaggle/input/kaggle-survey-2017/multipleChoiceResponses.csv\", encoding=\"ISO-8859-1\")\n",
    "df18= pd.read_csv(\"/kaggle/input/kaggle-survey-2018/multipleChoiceResponses.csv\", )\n",
    "df19= pd.read_csv(\"/kaggle/input/kaggle-survey-2019/multiple_choice_responses.csv\", )\n",
    "df20= pd.read_csv(\"/kaggle/input/kaggle-survey-2020/kaggle_survey_2020_responses.csv\", )\n",
    "df21= pd.read_csv(\"/kaggle/input/kaggle-survey-2021/kaggle_survey_2021_responses.csv\", )"
   ]
  },
  {
   "cell_type": "markdown",
   "metadata": {},
   "source": [
    "### **데이터 Grouping**\n",
    "---"
   ]
  },
  {
   "cell_type": "code",
   "execution_count": 189,
   "metadata": {
    "execution": {
     "iopub.execute_input": "2021-11-15T17:04:30.478490Z",
     "iopub.status.busy": "2021-11-15T17:04:30.478187Z",
     "iopub.status.idle": "2021-11-15T17:04:31.007458Z",
     "shell.execute_reply": "2021-11-15T17:04:31.006603Z",
     "shell.execute_reply.started": "2021-11-15T17:04:30.478455Z"
    }
   },
   "outputs": [],
   "source": [
    "## East Asia에는 대한민국, 일본, 중국, 타이완, 몽골, 북조선 총 6개의 국가가 속해 있다. \n",
    "\n",
    "EastAsia17 = ['China',\"People 's Republic of China\", 'Taiwan', 'South Korea', 'Japan']\n",
    "EastAsia18 = ['China', 'South Korea', 'Japan', 'Republic of Korea'] \n",
    "EastAsia19 = ['China','Taiwan', 'South Korea', 'Japan', 'Republic of Korea']\n",
    "EastAsia20 = ['China','Taiwan', 'South Korea', 'Japan', 'Republic of Korea']\n",
    "EastAsia21 = ['China','Taiwan', 'South Korea', 'Japan']\n",
    "EastAsia = ['Republic of Korea','China','Taiwan', 'South Korea', 'Japan', \"People 's Republic of China\" ]\n",
    "\n",
    "#21년\n",
    "df21_Ea = df21[df21['Q3'].isin(EastAsia)]\n",
    "df21_Wo = df21[~df21['Q3'].isin(EastAsia )]\n",
    "\n",
    "##  동아시아 국가를 제외한 국가들을 region 열의 데이터 값을 World 로 바꿔줌\n",
    "df21['region']=[\"EastAsia\" if x in EastAsia \n",
    "                            else \"World\" for x in df21['Q3']]\n",
    "\n",
    "#20년\n",
    "df20_Ea = df20[df20['Q3'].isin(EastAsia)]\n",
    "df20_Wo = df20[~df20['Q3'].isin(EastAsia )]\n",
    "df20['region']=[\"EastAsia\" if x in EastAsia \n",
    "                            else \"World\" for x in df20['Q3']]\n",
    "\n",
    "#19년\n",
    "df19_Ea = df19[df19['Q3'].isin(EastAsia)]\n",
    "df19_Wo = df19[~df19['Q3'].isin(EastAsia )]\n",
    "df19['region']=[\"EastAsia\" if x in EastAsia\n",
    "                            else \"World\" for x in df19['Q3']]\n",
    "\n",
    "#18년\n",
    "df18_Ea = df18[df18['Q3'].isin(EastAsia)]\n",
    "df18_Wo = df18[~df18['Q3'].isin(EastAsia )]\n",
    "df18['region']=[\"EastAsia\" if x in EastAsia \n",
    "                            else \"World\" for x in df18['Q3']]\n",
    "\n",
    "#17년\n",
    "df17_Ea = df17[df17['Country'].isin(EastAsia)]\n",
    "df17_Wo = df17[~df17['Country'].isin(EastAsia )]\n",
    "df17['region']=[\"EastAsia\" if x in EastAsia \n",
    "                            else \"World\" for x in df17['Country']]"
   ]
  },
  {
   "cell_type": "markdown",
   "metadata": {},
   "source": [
    "### **Stack Bar 그래프 데이터 전처리1**\n",
    "---"
   ]
  },
  {
   "cell_type": "code",
   "execution_count": 190,
   "metadata": {
    "execution": {
     "iopub.execute_input": "2021-11-15T17:04:31.009029Z",
     "iopub.status.busy": "2021-11-15T17:04:31.008715Z",
     "iopub.status.idle": "2021-11-15T17:04:31.347582Z",
     "shell.execute_reply": "2021-11-15T17:04:31.346692Z",
     "shell.execute_reply.started": "2021-11-15T17:04:31.008990Z"
    }
   },
   "outputs": [],
   "source": [
    "df21_Ea=df21[df21['Q3'].isin(EastAsia21)]\n",
    "df21_Ea['Q3'].value_counts().to_frame().reset_index().rename(columns={'index':'Country', 'Q3':'21_n'})"
   ]
  },
  {
   "cell_type": "code",
   "execution_count": 191,
   "metadata": {
    "execution": {
     "iopub.execute_input": "2021-11-15T17:04:31.351199Z",
     "iopub.status.busy": "2021-11-15T17:04:31.350740Z",
     "iopub.status.idle": "2021-11-15T17:04:31.592207Z",
     "shell.execute_reply": "2021-11-15T17:04:31.591439Z",
     "shell.execute_reply.started": "2021-11-15T17:04:31.351152Z"
    }
   },
   "outputs": [],
   "source": [
    "df20_Ea=df20[df20['Q3'].isin(EastAsia20)]\n",
    "df20_Ea['Q3'].replace('Republic of Korea','South Korea').value_counts().to_frame().reset_index().rename(columns={'index':'Country', 'Q3':'20_n'})"
   ]
  },
  {
   "cell_type": "code",
   "execution_count": 192,
   "metadata": {
    "execution": {
     "iopub.execute_input": "2021-11-15T17:04:31.593526Z",
     "iopub.status.busy": "2021-11-15T17:04:31.593295Z",
     "iopub.status.idle": "2021-11-15T17:04:31.713883Z",
     "shell.execute_reply": "2021-11-15T17:04:31.713086Z",
     "shell.execute_reply.started": "2021-11-15T17:04:31.593499Z"
    }
   },
   "outputs": [],
   "source": [
    "df19_Ea=df19[df19['Q3'].isin(EastAsia19)]\n",
    "df19_Ea['Q3'].replace('Republic of Korea','South Korea').value_counts().to_frame().reset_index().rename(columns={'index':'Country', 'Q3':'19_n'})"
   ]
  },
  {
   "cell_type": "code",
   "execution_count": 193,
   "metadata": {
    "execution": {
     "iopub.execute_input": "2021-11-15T17:04:31.715353Z",
     "iopub.status.busy": "2021-11-15T17:04:31.715098Z",
     "iopub.status.idle": "2021-11-15T17:04:32.034183Z",
     "shell.execute_reply": "2021-11-15T17:04:32.033409Z",
     "shell.execute_reply.started": "2021-11-15T17:04:31.715322Z"
    }
   },
   "outputs": [],
   "source": [
    "## append 함수 사용해서 Taiwan = 0 값 추가해줌\n",
    "## ignore_index=True  원래 있던 df의 index를 무시\n",
    "df18_Ea=df18[df18['Q3'].isin(EastAsia18)]\n",
    "df18_Ea['Q3'].replace('Republic of Korea','South Korea').value_counts().to_frame().reset_index().append({'index': 'Taiwan','Q3':'0'}, ignore_index=True).rename(columns={'index':'Country', 'Q3':'18_n'})"
   ]
  },
  {
   "cell_type": "code",
   "execution_count": 194,
   "metadata": {
    "execution": {
     "iopub.execute_input": "2021-11-15T17:04:32.036098Z",
     "iopub.status.busy": "2021-11-15T17:04:32.035785Z",
     "iopub.status.idle": "2021-11-15T17:04:32.125585Z",
     "shell.execute_reply": "2021-11-15T17:04:32.124620Z",
     "shell.execute_reply.started": "2021-11-15T17:04:32.036050Z"
    }
   },
   "outputs": [],
   "source": [
    "df17_Ea = df17[df17['Country'].isin(EastAsia)]\n",
    "df17_Ea['Country'].replace(\"People 's Republic of China\",\"China\").value_counts().to_frame().reset_index().rename(columns={'index':'Country', 'Country':'17_n'})"
   ]
  },
  {
   "cell_type": "markdown",
   "metadata": {},
   "source": [
    "### **Stack Bar 그래프 데이터 전처리2**\n",
    "---\n",
    "\n",
    "- 18년도 Taiwan 없음\n",
    "- iloc: 데이터프레임의 행이나 컬럼에 인덱스 값으로 접근\n",
    "- loc: 데이터프레임의 행이나 컬럼에 label이나 boolean array로 접근 (location의 약자)\n",
    "<br>\n",
    "<br>\n",
    "- 위에 전처리 내용을 아래 그래프에 맞게 더 다듬어 정리하였다"
   ]
  },
  {
   "cell_type": "code",
   "execution_count": 195,
   "metadata": {
    "execution": {
     "iopub.execute_input": "2021-11-15T17:04:32.126994Z",
     "iopub.status.busy": "2021-11-15T17:04:32.126778Z",
     "iopub.status.idle": "2021-11-15T17:04:32.224352Z",
     "shell.execute_reply": "2021-11-15T17:04:32.223329Z",
     "shell.execute_reply.started": "2021-11-15T17:04:32.126968Z"
    }
   },
   "outputs": [],
   "source": [
    "df17_Ea = df17[df17['Country'].isin(EastAsia)]\n",
    "df17_StackB = df17_Ea['Country'].replace(\"People 's Republic of China\",\"China\").value_counts().to_frame().reset_index()\n",
    "\n",
    "df18_Ea = df18[df18['Q3'].isin(EastAsia18)]\n",
    "df18_StackB = df18_Ea['Q3'].replace('Republic of Korea','South Korea').value_counts().to_frame().reset_index().append({'index': 'Taiwan','Q3':'0'}, ignore_index=True)\n",
    "\n",
    "df19_Ea = df19[df19['Q3'].isin(EastAsia19)]\n",
    "df19_StackB = df19_Ea['Q3'].replace('Republic of Korea','South Korea').value_counts().to_frame().reset_index()\n",
    "\n",
    "df20_Ea = df20[df20['Q3'].isin(EastAsia20)]\n",
    "df20_StackB = df20_Ea['Q3'].replace('Republic of Korea','South Korea').value_counts().to_frame().reset_index()\n",
    "\n",
    "df21_Ea = df21[df21['Q3'].isin(EastAsia21)]\n",
    "df21_StackB = df21_Ea['Q3'].value_counts().to_frame().reset_index()"
   ]
  },
  {
   "cell_type": "code",
   "execution_count": 196,
   "metadata": {
    "execution": {
     "iopub.execute_input": "2021-11-15T17:04:32.226105Z",
     "iopub.status.busy": "2021-11-15T17:04:32.225837Z",
     "iopub.status.idle": "2021-11-15T17:04:32.240321Z",
     "shell.execute_reply": "2021-11-15T17:04:32.239272Z",
     "shell.execute_reply.started": "2021-11-15T17:04:32.226073Z"
    }
   },
   "outputs": [],
   "source": [
    "fig = go.Figure(data=[\n",
    "    go.Bar(name='China', x=years, y=[df17_StackB.iloc[0,1], df18_StackB.iloc[0,1], df19_StackB.iloc[1,1], df20_StackB.iloc[1,1], df21_StackB.iloc[1,1]]),\n",
    "    \n",
    "    go.Bar(name='Japan', x=years, y=[df17_StackB.iloc[1,1], df18_StackB.iloc[1,1], df19_StackB.iloc[0,1], df20_StackB.iloc[0,1], df21_StackB.iloc[0,1]]),\n",
    "    \n",
    "    go.Bar(name='Taiwan', x=years, y=[df17_StackB.iloc[2,1], df18_StackB.iloc[3,1], df19_StackB.iloc[2,1], df20_StackB.iloc[2,1], df21_StackB.iloc[3,1]]),\n",
    "    \n",
    "    go.Bar(name='South Korea', x=years, y=[df17_StackB.iloc[3,1], df18_StackB.iloc[2,1], df19_StackB.iloc[3,1], df20_StackB.iloc[3,1], df21_StackB.iloc[2,1]])\n",
    "    \n",
    "    ])\n",
    "\n",
    "fig.update_layout(barmode ='stack')\n",
    "fig.show()"
   ]
  },
  {
   "cell_type": "markdown",
   "metadata": {},
   "source": [
    "### **Pie 그래프**\n",
    "\n"
   ]
  },
  {
   "cell_type": "markdown",
   "metadata": {},
   "source": [
    "### **데이터 전처리**\n",
    "---"
   ]
  },
  {
   "cell_type": "code",
   "execution_count": 197,
   "metadata": {
    "execution": {
     "iopub.execute_input": "2021-11-15T17:04:32.241765Z",
     "iopub.status.busy": "2021-11-15T17:04:32.241249Z",
     "iopub.status.idle": "2021-11-15T17:04:32.327296Z",
     "shell.execute_reply": "2021-11-15T17:04:32.326567Z",
     "shell.execute_reply.started": "2021-11-15T17:04:32.241727Z"
    }
   },
   "outputs": [],
   "source": [
    "fig = make_subplots(rows=1, cols=5)\n",
    "total17 = (\n",
    "    df17['region']\n",
    "    .value_counts()\n",
    "    .to_frame()\n",
    "    .reset_index()\n",
    "    .rename(columns={'index':'type', 'region':'respodents'})\n",
    "    .groupby('type')\n",
    "    .sum()\n",
    "    .reset_index()\n",
    ")\n",
    "total18 = (\n",
    "    df18['region']\n",
    "    .value_counts()\n",
    "    .to_frame()\n",
    "    .reset_index()\n",
    "    .rename(columns={'index':'type', 'region':'respodents'})\n",
    "    .groupby('type')\n",
    "    .sum()\n",
    "    .reset_index()\n",
    ")\n",
    "total19 = (\n",
    "    df19['region']\n",
    "    .value_counts()\n",
    "    .to_frame()\n",
    "    .reset_index()\n",
    "    .rename(columns={'index':'type', 'region':'respodents'})\n",
    "    .groupby('type')\n",
    "    .sum()\n",
    "    .reset_index()\n",
    ")\n",
    "total20 = (\n",
    "    df20['region']\n",
    "    .value_counts()\n",
    "    .to_frame()\n",
    "    .reset_index()\n",
    "    .rename(columns={'index':'type', 'region':'respodents'})\n",
    "    .groupby('type')\n",
    "    .sum()\n",
    "    .reset_index()\n",
    ")\n",
    "total21 = (\n",
    "    df21['region']\n",
    "    .value_counts()\n",
    "    .to_frame()\n",
    "    .reset_index()\n",
    "    .rename(columns={'index':'type', 'region':'respodents'})\n",
    "    .groupby('type')\n",
    "    .sum()\n",
    "    .reset_index()\n",
    ")"
   ]
  },
  {
   "cell_type": "markdown",
   "metadata": {},
   "source": [
    "### **Pie 그래프 그리기**\n",
    "---"
   ]
  },
  {
   "cell_type": "code",
   "execution_count": 198,
   "metadata": {
    "execution": {
     "iopub.execute_input": "2021-11-15T17:04:32.328885Z",
     "iopub.status.busy": "2021-11-15T17:04:32.328278Z",
     "iopub.status.idle": "2021-11-15T17:04:32.358482Z",
     "shell.execute_reply": "2021-11-15T17:04:32.357576Z",
     "shell.execute_reply.started": "2021-11-15T17:04:32.328849Z"
    }
   },
   "outputs": [],
   "source": [
    "fig = make_subplots(rows=1, cols=5, specs=[[{'type':'domain'}, {'type':'domain'}, {'type':'domain'}, {'type':'domain'}, {'type':'domain'}]])\n",
    "\n",
    "fig.add_trace(go.Pie(labels=total21['type'], values=total21['respodents'], name=\"2021\", scalegroup='one'),\n",
    "              1, 1)\n",
    "fig.add_trace(go.Pie(labels=total20['type'], values=total20['respodents'], name=\"2020\", scalegroup='one'),\n",
    "              1, 2)\n",
    "fig.add_trace(go.Pie(labels=total19['type'], values=total19['respodents'], name=\"2019\", scalegroup='one'),\n",
    "              1, 3)\n",
    "fig.add_trace(go.Pie(labels=total18['type'], values=total18['respodents'], name=\"2018\", scalegroup='one'),\n",
    "              1, 4)\n",
    "fig.add_trace(go.Pie(labels=total17['type'], values=total17['respodents'], name=\"2017\", scalegroup='one'),\n",
    "              1, 5)\n",
    "\n",
    "fig.update_traces(hole=.2, hoverinfo=\"label+percent+name\")\n",
    "fig.update_layout(\n",
    "    title_text=\"<b>World vs EastAsia</b>\",\n",
    "    \n",
    "   )\n",
    "fig.show()"
   ]
  }
 ],
 "metadata": {
  "kernelspec": {
   "display_name": "Python 3",
   "language": "python",
   "name": "python3"
  },
  "language_info": {
   "codemirror_mode": {
    "name": "ipython",
    "version": 3
   },
   "file_extension": ".py",
   "mimetype": "text/x-python",
   "name": "python",
   "nbconvert_exporter": "python",
   "pygments_lexer": "ipython3",
   "version": "3.8.8"
  }
 },
 "nbformat": 4,
 "nbformat_minor": 4
}
