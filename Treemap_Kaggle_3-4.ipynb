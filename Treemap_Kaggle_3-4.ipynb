{
 "cells": [
  {
   "cell_type": "code",
   "execution_count": 2,
   "metadata": {
    "_cell_guid": "b1076dfc-b9ad-4769-8c92-a6c4dae69d19",
    "_uuid": "8f2839f25d086af736a60e9eeb907d3b93b6e0e5",
    "execution": {
     "iopub.execute_input": "2021-11-09T05:22:20.010906Z",
     "iopub.status.busy": "2021-11-09T05:22:20.010639Z",
     "iopub.status.idle": "2021-11-09T05:22:20.024512Z",
     "shell.execute_reply": "2021-11-09T05:22:20.023630Z",
     "shell.execute_reply.started": "2021-11-09T05:22:20.010879Z"
    }
   },
   "outputs": [],
   "source": [
    "# This Python 3 environment comes with many helpful analytics libraries installed\n",
    "# It is defined by the kaggle/python Docker image: https://github.com/kaggle/docker-python\n",
    "# For example, here's several helpful packages to load\n",
    "\n",
    "import numpy as np # linear algebra\n",
    "import pandas as pd # data processing, CSV file I/O (e.g. pd.read_csv)\n",
    "\n",
    "# Input data files are available in the read-only \"../input/\" directory\n",
    "# For example, running this (by clicking run or pressing Shift+Enter) will list all files under the input directory\n",
    "\n",
    "import os\n",
    "for dirname, _, filenames in os.walk('/kaggle/input'):\n",
    "    for filename in filenames:\n",
    "        print(os.path.join(dirname, filename))\n",
    "\n",
    "# You can write up to 20GB to the current directory (/kaggle/working/) that gets preserved as output when you create a version using \"Save & Run All\" \n",
    "# You can also write temporary files to /kaggle/temp/, but they won't be saved outside of the current session"
   ]
  },
  {
   "cell_type": "code",
   "execution_count": 5,
   "metadata": {
    "execution": {
     "iopub.execute_input": "2021-11-09T05:22:33.300873Z",
     "iopub.status.busy": "2021-11-09T05:22:33.300278Z",
     "iopub.status.idle": "2021-11-09T05:22:34.396613Z",
     "shell.execute_reply": "2021-11-09T05:22:34.395847Z",
     "shell.execute_reply.started": "2021-11-09T05:22:33.300836Z"
    }
   },
   "outputs": [],
   "source": [
    "import pandas as pd\n",
    "import numpy as np\n",
    "import seaborn as sns\n",
    "import plotly.express as px\n",
    "import plotly.graph_objects as go\n",
    "\n",
    "import warnings\n",
    "warnings.filterwarnings('ignore') \n",
    "\n",
    "df = pd.read_csv('../input/kaggle-survey-2021/kaggle_survey_2021_responses.csv')\n",
    "df = df.iloc[1:, :]"
   ]
  },
  {
   "cell_type": "markdown",
   "metadata": {},
   "source": [
    "### **3-4**\n",
    "---\n",
    "recommend_leng 객체 생성"
   ]
  },
  {
   "cell_type": "code",
   "execution_count": 9,
   "metadata": {
    "execution": {
     "iopub.execute_input": "2021-11-09T05:23:04.914918Z",
     "iopub.status.busy": "2021-11-09T05:23:04.914613Z",
     "iopub.status.idle": "2021-11-09T05:23:04.932521Z",
     "shell.execute_reply": "2021-11-09T05:23:04.931864Z",
     "shell.execute_reply.started": "2021-11-09T05:23:04.914881Z"
    }
   },
   "outputs": [],
   "source": [
    "recommend_leng = (\n",
    "    df['Q8']\n",
    "    .value_counts()\n",
    "    .to_frame()\n",
    "    .reset_index()\n",
    "    .rename(columns={'index':'Lenguage', 'Q8':'Count'})\n",
    "    .sort_values(by=['Count'], ascending=False)   \n",
    "          )   \n",
    "print(recommend_leng)"
   ]
  },
  {
   "cell_type": "code",
   "execution_count": 10,
   "metadata": {
    "execution": {
     "iopub.execute_input": "2021-11-09T05:23:26.288452Z",
     "iopub.status.busy": "2021-11-09T05:23:26.288021Z",
     "iopub.status.idle": "2021-11-09T05:23:26.292911Z",
     "shell.execute_reply": "2021-11-09T05:23:26.292226Z",
     "shell.execute_reply.started": "2021-11-09T05:23:26.288421Z"
    }
   },
   "outputs": [],
   "source": [
    "colors = ['#033351',] * 13\n",
    "colors[0] = '#5abbf9'\n",
    "colors[1] = '#066eb0'\n",
    "colors[2] = '#044a77'\n",
    "colors[3] = '#043e64'\n",
    "colors[4] = '#043e64'"
   ]
  },
  {
   "cell_type": "markdown",
   "metadata": {},
   "source": [
    "### **Treemap**\n",
    "[참고사이트](https://plotly.com/python/treemaps/)\n",
    "---\n",
    "트리맵 차트는 내포된 직사각형을 사용하여 계층적 데이터를 시각화합니다.\n",
    "계층 구조는 레이블(px.tremap의 이름) 및 상위 속성에 의해 정의됩니다."
   ]
  },
  {
   "cell_type": "code",
   "execution_count": 12,
   "metadata": {
    "execution": {
     "iopub.execute_input": "2021-11-09T05:27:38.833538Z",
     "iopub.status.busy": "2021-11-09T05:27:38.833230Z",
     "iopub.status.idle": "2021-11-09T05:27:38.886232Z",
     "shell.execute_reply": "2021-11-09T05:27:38.885414Z",
     "shell.execute_reply.started": "2021-11-09T05:27:38.833507Z"
    }
   },
   "outputs": [],
   "source": [
    "fig = go.Figure(go.Treemap(\n",
    "    labels = recommend_leng['Lenguage'],\n",
    "    values = recommend_leng['Count'],\n",
    "    parents = ['']*recommend_leng.shape[0],\n",
    "    textinfo = \"percent root+label+value+text\",\n",
    "))\n",
    "fig.show()"
   ]
  },
  {
   "cell_type": "code",
   "execution_count": 13,
   "metadata": {
    "execution": {
     "iopub.execute_input": "2021-11-09T05:27:58.639921Z",
     "iopub.status.busy": "2021-11-09T05:27:58.639248Z",
     "iopub.status.idle": "2021-11-09T05:27:58.752678Z",
     "shell.execute_reply": "2021-11-09T05:27:58.751756Z",
     "shell.execute_reply.started": "2021-11-09T05:27:58.639880Z"
    }
   },
   "outputs": [],
   "source": [
    "fig.update_traces(hovertemplate='<b>Lenguage</b>: %{label}<br><extra></extra>'+\n",
    "                                '<b>Count</b>: %{value}')\n",
    " \n",
    "fig.update_layout(showlegend=False, \n",
    "                  treemapcolorway = colors,\n",
    "                  margin=dict(pad=20),\n",
    "                  paper_bgcolor='#F7F7F7',\n",
    "                  plot_bgcolor='#F7F7F7',\n",
    "                  height=600,\n",
    "                  yaxis={'showticklabels': False},\n",
    "                  yaxis_title=None,\n",
    "                  xaxis_title=None,\n",
    "                  title_text=\"Most Recommended <b>Programming Language</b>\",\n",
    "                  title_x=0.5,\n",
    "                  title_y=0.95,\n",
    "                  font=dict(family=\"Hiragino Kaku Gothic Pro, sans-serif\", size=17, color='#000000'),\n",
    "                  title_font_size=35)\n",
    "\n",
    "fig.add_annotation(dict(font=dict(size=14),\n",
    "                                    x=0.96,\n",
    "                                    y=-0.14,\n",
    "                                    showarrow=False,\n",
    "                                    text=\"@miguelfzzz\",\n",
    "                                    xanchor='left',\n",
    "                                    xref=\"paper\",\n",
    "                                    yref=\"paper\"))\n",
    "\n",
    "fig.add_annotation(dict(font=dict(size=12),\n",
    "                                    x=0.01,\n",
    "                                    y=-0.14,\n",
    "                                    showarrow=False,\n",
    "                                    text=\"Source: 2021 Kaggle Machine Learning & Data Science Survey\",\n",
    "                                    xanchor='left',\n",
    "                                    xref=\"paper\",\n",
    "                                    yref=\"paper\"))\n",
    "\n",
    "fig.show()"
   ]
  },
  {
   "cell_type": "markdown",
   "metadata": {},
   "source": [
    "fig.update_traces(hovertemplate='<b>Lenguage</b>: %{label}<br><extra></extra>'+\n",
    "                                '<b>Count</b>: %{value}')\n",
    " \n",
    "fig.update_layout(showlegend=False, \n",
    "                  treemapcolorway = colors,\n",
    "                  margin=dict(pad=20),\n",
    "                  paper_bgcolor='#F7F7F7',\n",
    "                  plot_bgcolor='#F7F7F7',\n",
    "                  height=600,\n",
    "                  yaxis={'showticklabels': False},\n",
    "                  yaxis_title=None,\n",
    "                  xaxis_title=None,\n",
    "                  title_text=\"Most Recommended <b>Programming Language</b>\",\n",
    "                  title_x=0.5,\n",
    "                  title_y=0.95,\n",
    "                  font=dict(family=\"Hiragino Kaku Gothic Pro, sans-serif\", size=17, color='#000000'),\n",
    "                  title_font_size=35)\n",
    "\n",
    "fig.add_annotation(dict(font=dict(size=14),\n",
    "                                    x=0.96,\n",
    "                                    y=-0.14,\n",
    "                                    showarrow=False,\n",
    "                                    text=\"@miguelfzzz\",\n",
    "                                    xanchor='left',\n",
    "                                    xref=\"paper\",\n",
    "                                    yref=\"paper\"))\n",
    "\n",
    "fig.add_annotation(dict(font=dict(size=12),\n",
    "                                    x=0.01,\n",
    "                                    y=-0.14,\n",
    "                                    showarrow=False,\n",
    "                                    text=\"Source: 2021 Kaggle Machine Learning & Data Science Survey\",\n",
    "                                    xanchor='left',\n",
    "                                    xref=\"paper\",\n",
    "                                    yref=\"paper\"))\n",
    "\n",
    "fig.show()"
   ]
  }
 ],
 "metadata": {
  "kernelspec": {
   "display_name": "Python 3",
   "language": "python",
   "name": "python3"
  },
  "language_info": {
   "codemirror_mode": {
    "name": "ipython",
    "version": 3
   },
   "file_extension": ".py",
   "mimetype": "text/x-python",
   "name": "python",
   "nbconvert_exporter": "python",
   "pygments_lexer": "ipython3",
   "version": "3.8.8"
  }
 },
 "nbformat": 4,
 "nbformat_minor": 4
}
