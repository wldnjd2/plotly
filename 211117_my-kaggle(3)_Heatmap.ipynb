{
 "cells": [
  {
   "cell_type": "markdown",
   "metadata": {},
   "source": [
    "### **라이브러리 불러오기 & 캐글 데이터 불러오기**\n",
    "---"
   ]
  },
  {
   "cell_type": "code",
   "execution_count": 45,
   "metadata": {
    "_cell_guid": "b1076dfc-b9ad-4769-8c92-a6c4dae69d19",
    "_uuid": "8f2839f25d086af736a60e9eeb907d3b93b6e0e5",
    "execution": {
     "iopub.execute_input": "2021-11-17T01:39:24.058428Z",
     "iopub.status.busy": "2021-11-17T01:39:24.057576Z",
     "iopub.status.idle": "2021-11-17T01:39:24.086333Z",
     "shell.execute_reply": "2021-11-17T01:39:24.085619Z",
     "shell.execute_reply.started": "2021-11-17T01:39:24.058348Z"
    }
   },
   "outputs": [],
   "source": [
    "import numpy as np\n",
    "import pandas as pd\n",
    "import seaborn as sns\n",
    "import matplotlib.pylab as plt\n",
    "\n",
    "import plotly.io as pio\n",
    "import plotly.express as px\n",
    "import plotly.graph_objects as go\n",
    "import plotly.figure_factory as ff\n",
    "from plotly.subplots import make_subplots\n",
    "from plotly.offline import init_notebook_mode, iplot\n",
    "init_notebook_mode(connected=True)\n",
    "pio.templates.default = \"none\"\n",
    "# import plotly.offline as py\n",
    "# py.offline.init_notebook_mode()\n",
    "\n",
    "import os\n",
    "for dirname, _, filenames in os.walk('/kaggle/input'):\n",
    "    for filename in filenames:\n",
    "        print(os.path.join(dirname, filename))\n",
    "\n",
    "import warnings\n",
    "warnings.filterwarnings(\"ignore\")"
   ]
  },
  {
   "cell_type": "code",
   "execution_count": 46,
   "metadata": {
    "execution": {
     "iopub.execute_input": "2021-11-17T01:39:24.088562Z",
     "iopub.status.busy": "2021-11-17T01:39:24.087695Z",
     "iopub.status.idle": "2021-11-17T01:39:28.571594Z",
     "shell.execute_reply": "2021-11-17T01:39:28.570700Z",
     "shell.execute_reply.started": "2021-11-17T01:39:24.088519Z"
    }
   },
   "outputs": [],
   "source": [
    "df17= pd.read_csv(\"/kaggle/input/kaggle-survey-2017/multipleChoiceResponses.csv\", encoding=\"ISO-8859-1\")\n",
    "df18= pd.read_csv(\"/kaggle/input/kaggle-survey-2018/multipleChoiceResponses.csv\", )\n",
    "df19= pd.read_csv(\"/kaggle/input/kaggle-survey-2019/multiple_choice_responses.csv\", )\n",
    "df20= pd.read_csv(\"/kaggle/input/kaggle-survey-2020/kaggle_survey_2020_responses.csv\", )\n",
    "df21= pd.read_csv(\"/kaggle/input/kaggle-survey-2021/kaggle_survey_2021_responses.csv\", )"
   ]
  },
  {
   "cell_type": "markdown",
   "metadata": {},
   "source": [
    "### **데이터 Grouping**\n",
    "---"
   ]
  },
  {
   "cell_type": "code",
   "execution_count": 47,
   "metadata": {
    "execution": {
     "iopub.execute_input": "2021-11-17T01:39:28.573452Z",
     "iopub.status.busy": "2021-11-17T01:39:28.573196Z",
     "iopub.status.idle": "2021-11-17T01:39:29.087051Z",
     "shell.execute_reply": "2021-11-17T01:39:29.086221Z",
     "shell.execute_reply.started": "2021-11-17T01:39:28.573424Z"
    }
   },
   "outputs": [],
   "source": [
    "## East Asia에는 대한민국, 일본, 중국, 타이완, 몽골, 북조선 총 6개의 국가가 속해 있다. \n",
    "\n",
    "EastAsia17 = ['China',\"People 's Republic of China\", 'Taiwan', 'South Korea', 'Japan']\n",
    "EastAsia18 = ['China', 'South Korea', 'Japan', 'Republic of Korea'] \n",
    "EastAsia19 = ['China','Taiwan', 'South Korea', 'Japan', 'Republic of Korea']\n",
    "EastAsia20 = ['China','Taiwan', 'South Korea', 'Japan', 'Republic of Korea']\n",
    "EastAsia21 = ['China','Taiwan', 'South Korea', 'Japan']\n",
    "EastAsia = ['Republic of Korea','China','Taiwan', 'South Korea', 'Japan', \"People 's Republic of China\" ]\n",
    "\n",
    "#21년\n",
    "df21_Ea = df21[df21['Q3'].isin(EastAsia)]\n",
    "df21_Wo = df21[~df21['Q3'].isin(EastAsia )]\n",
    "\n",
    "##  동아시아 국가를 제외한 국가들을 region 열의 데이터 값을 World 로 바꿔줌\n",
    "df21['region']=[\"EastAsia\" if x in EastAsia \n",
    "                            else \"World\" for x in df21['Q3']]\n",
    "\n",
    "#20년\n",
    "df20_Ea = df20[df20['Q3'].isin(EastAsia)]\n",
    "df20_Wo = df20[~df20['Q3'].isin(EastAsia )]\n",
    "df20['region']=[\"EastAsia\" if x in EastAsia \n",
    "                            else \"World\" for x in df20['Q3']]\n",
    "\n",
    "#19년\n",
    "df19_Ea = df19[df19['Q3'].isin(EastAsia)]\n",
    "df19_Wo = df19[~df19['Q3'].isin(EastAsia )]\n",
    "df19['region']=[\"EastAsia\" if x in EastAsia\n",
    "                            else \"World\" for x in df19['Q3']]\n",
    "\n",
    "#18년\n",
    "df18_Ea = df18[df18['Q3'].isin(EastAsia)]\n",
    "df18_Wo = df18[~df18['Q3'].isin(EastAsia )]\n",
    "df18['region']=[\"EastAsia\" if x in EastAsia \n",
    "                            else \"World\" for x in df18['Q3']]\n",
    "\n",
    "#17년\n",
    "df17_Ea = df17[df17['Country'].isin(EastAsia)]\n",
    "df17_Wo = df17[~df17['Country'].isin(EastAsia )]\n",
    "df17['region']=[\"EastAsia\" if x in EastAsia \n",
    "                            else \"World\" for x in df17['Country']]"
   ]
  },
  {
   "cell_type": "markdown",
   "metadata": {},
   "source": [
    "### **Heatmap**\n",
    "---"
   ]
  },
  {
   "cell_type": "code",
   "execution_count": 48,
   "metadata": {
    "execution": {
     "iopub.execute_input": "2021-11-17T01:39:29.089063Z",
     "iopub.status.busy": "2021-11-17T01:39:29.088806Z",
     "iopub.status.idle": "2021-11-17T01:39:29.482789Z",
     "shell.execute_reply": "2021-11-17T01:39:29.481755Z",
     "shell.execute_reply.started": "2021-11-17T01:39:29.089029Z"
    }
   },
   "outputs": [],
   "source": [
    "# 21년 Business Analyst가 직업인 국가별 인원수\n",
    "df21_BA = df21[df21['Q5'] == 'Business Analyst']\n",
    "df21_BA = df21_BA['Q3'].value_counts().to_frame().reset_index().rename(columns={'index':'Country', 'Q3':'Business Analyst'})\n",
    "df21_BA\n",
    "\n",
    "# 21년 Data Analyst가 직업인 국가별 인원수\n",
    "df21_DA = df21[df21['Q5'] == 'Data Analyst']\n",
    "df21_DA = df21_DA['Q3'].value_counts().to_frame().reset_index().rename(columns={'index':'Country', 'Q3':'Data Analyst'})\n",
    "df21_DA\n",
    "\n",
    "# 21년 Data Engineer가 직업인 국가별 인원수\n",
    "df21_DE = df21[df21['Q5'] == 'Data Engineer']\n",
    "df21_DE = df21_DE['Q3'].value_counts().to_frame().reset_index().rename(columns={'index':'Country', 'Q3':'Data Engineer'})\n",
    "df21_DE\n",
    "\n",
    "# 21년 Data Scientist가 직업인 국가별 인원수\n",
    "df21_DS = df21[df21['Q5'] == 'Data Scientist']\n",
    "df21_DS = df21_DS['Q3'].value_counts().to_frame().reset_index().rename(columns={'index':'Country', 'Q3':'Data Scientist'})\n",
    "df21_DS"
   ]
  },
  {
   "cell_type": "code",
   "execution_count": 49,
   "metadata": {
    "execution": {
     "iopub.execute_input": "2021-11-17T01:39:29.485012Z",
     "iopub.status.busy": "2021-11-17T01:39:29.484685Z",
     "iopub.status.idle": "2021-11-17T01:39:29.497101Z",
     "shell.execute_reply": "2021-11-17T01:39:29.495901Z",
     "shell.execute_reply.started": "2021-11-17T01:39:29.484976Z"
    }
   },
   "outputs": [],
   "source": [
    "merge = pd.merge(df21_BA, df21_DA)\n",
    "job=merge.loc[:,[\"Business Analyst\",\"Data Analyst\"]]\n",
    "job.columns.tolist()"
   ]
  },
  {
   "cell_type": "code",
   "execution_count": 50,
   "metadata": {
    "execution": {
     "iopub.execute_input": "2021-11-17T01:39:29.499207Z",
     "iopub.status.busy": "2021-11-17T01:39:29.498770Z",
     "iopub.status.idle": "2021-11-17T01:39:29.516735Z",
     "shell.execute_reply": "2021-11-17T01:39:29.515992Z",
     "shell.execute_reply.started": "2021-11-17T01:39:29.499166Z"
    }
   },
   "outputs": [],
   "source": [
    "merge"
   ]
  },
  {
   "cell_type": "code",
   "execution_count": 51,
   "metadata": {
    "execution": {
     "iopub.execute_input": "2021-11-17T01:39:29.519266Z",
     "iopub.status.busy": "2021-11-17T01:39:29.518150Z",
     "iopub.status.idle": "2021-11-17T01:39:29.528537Z",
     "shell.execute_reply": "2021-11-17T01:39:29.527943Z",
     "shell.execute_reply.started": "2021-11-17T01:39:29.519219Z"
    }
   },
   "outputs": [],
   "source": [
    "merge.to_numpy().reshape(-1)"
   ]
  },
  {
   "cell_type": "code",
   "execution_count": 52,
   "metadata": {
    "execution": {
     "iopub.execute_input": "2021-11-17T01:39:29.530169Z",
     "iopub.status.busy": "2021-11-17T01:39:29.529894Z",
     "iopub.status.idle": "2021-11-17T01:39:29.540110Z",
     "shell.execute_reply": "2021-11-17T01:39:29.539221Z",
     "shell.execute_reply.started": "2021-11-17T01:39:29.530139Z"
    }
   },
   "outputs": [],
   "source": [
    "merge.columns.tolist()\n",
    "#merge.Country.tolist()"
   ]
  },
  {
   "cell_type": "code",
   "execution_count": 53,
   "metadata": {
    "execution": {
     "iopub.execute_input": "2021-11-17T01:39:29.541536Z",
     "iopub.status.busy": "2021-11-17T01:39:29.541225Z",
     "iopub.status.idle": "2021-11-17T01:39:29.554901Z",
     "shell.execute_reply": "2021-11-17T01:39:29.553698Z",
     "shell.execute_reply.started": "2021-11-17T01:39:29.541497Z"
    }
   },
   "outputs": [],
   "source": [
    "merge.to_numpy()"
   ]
  },
  {
   "cell_type": "code",
   "execution_count": 54,
   "metadata": {
    "execution": {
     "iopub.execute_input": "2021-11-17T01:39:29.558413Z",
     "iopub.status.busy": "2021-11-17T01:39:29.558099Z",
     "iopub.status.idle": "2021-11-17T01:39:29.592753Z",
     "shell.execute_reply": "2021-11-17T01:39:29.591900Z",
     "shell.execute_reply.started": "2021-11-17T01:39:29.558373Z"
    }
   },
   "outputs": [],
   "source": [
    "# 21년 Data Engineer가 직업인 국가별 인원수\n",
    "df21_DE = df21[df21['Q5'] == 'Data Engineer']\n",
    "df21_DE = df21_DE['Q3'].value_counts().to_frame().reset_index().rename(columns={'index':'Country', 'Q3':'Data Engineer'})\n",
    "df21_DE.head()"
   ]
  },
  {
   "cell_type": "code",
   "execution_count": 55,
   "metadata": {
    "execution": {
     "iopub.execute_input": "2021-11-17T01:39:29.594222Z",
     "iopub.status.busy": "2021-11-17T01:39:29.594001Z",
     "iopub.status.idle": "2021-11-17T01:39:29.602561Z",
     "shell.execute_reply": "2021-11-17T01:39:29.601737Z",
     "shell.execute_reply.started": "2021-11-17T01:39:29.594197Z"
    }
   },
   "outputs": [],
   "source": [
    "merge.iloc[:,[1,2]].to_numpy()"
   ]
  },
  {
   "cell_type": "code",
   "execution_count": 56,
   "metadata": {
    "execution": {
     "iopub.execute_input": "2021-11-17T01:39:29.604612Z",
     "iopub.status.busy": "2021-11-17T01:39:29.604307Z",
     "iopub.status.idle": "2021-11-17T01:39:29.626410Z",
     "shell.execute_reply": "2021-11-17T01:39:29.625551Z",
     "shell.execute_reply.started": "2021-11-17T01:39:29.604572Z"
    }
   },
   "outputs": [],
   "source": [
    "# x축직업\n",
    "# y축국가\n",
    "fig = go.Figure(data=go.Heatmap(\n",
    "                   z=merge.iloc[:,[1,2]].to_numpy(),\n",
    "                   x=job.columns.tolist(),\n",
    "                   y = merge.Country.tolist(),\n",
    "                   hoverongaps = True,\n",
    "     coloraxis = \"coloraxis\"\n",
    "    \n",
    "                ))\n",
    "\n",
    "fig.update_layout(title_text='<i><b>Heatmap</b></i>',\n",
    "                  xaxis = dict(title='x'),\n",
    "                  yaxis = dict(title='x')\n",
    "                 )\n",
    "# add custom xaxis title\n",
    "fig.add_annotation(dict(font=dict(color=\"black\",size=14),\n",
    "                        x=0.5,\n",
    "                        y=-0.15,\n",
    "                        showarrow=False,\n",
    "                        text=\"\",\n",
    "                        xref=\"paper\",\n",
    "                        yref=\"paper\"))\n",
    "\n",
    "# add custom yaxis title\n",
    "fig.add_annotation(dict(font=dict(color=\"black\",size=14),\n",
    "                        x=-0.35,\n",
    "                        y=0.5,\n",
    "                        showarrow=False,\n",
    "                        text=\"\",\n",
    "                        textangle=-90,\n",
    "                        xref=\"paper\",\n",
    "                        yref=\"paper\"))\n",
    "\n",
    "# adjust margins to make room for yaxis title\n",
    "fig.update_layout(margin=dict(t=50, l=200))\n",
    "\n",
    "# add colorbar\n",
    "fig['data'][0]['showscale'] = True\n",
    "\n",
    "fig.show()\n"
   ]
  },
  {
   "cell_type": "code",
   "execution_count": 57,
   "metadata": {
    "execution": {
     "iopub.execute_input": "2021-11-17T01:39:29.627815Z",
     "iopub.status.busy": "2021-11-17T01:39:29.627575Z",
     "iopub.status.idle": "2021-11-17T01:39:29.643639Z",
     "shell.execute_reply": "2021-11-17T01:39:29.643039Z",
     "shell.execute_reply.started": "2021-11-17T01:39:29.627787Z"
    }
   },
   "outputs": [],
   "source": [
    "merge.iloc[0,[1,2]].values.tolist()"
   ]
  },
  {
   "cell_type": "code",
   "execution_count": 58,
   "metadata": {
    "execution": {
     "iopub.execute_input": "2021-11-17T01:39:29.645535Z",
     "iopub.status.busy": "2021-11-17T01:39:29.644565Z",
     "iopub.status.idle": "2021-11-17T01:39:29.657074Z",
     "shell.execute_reply": "2021-11-17T01:39:29.656250Z",
     "shell.execute_reply.started": "2021-11-17T01:39:29.645498Z"
    }
   },
   "outputs": [],
   "source": [
    "merge['Business Analyst'].values.tolist()"
   ]
  },
  {
   "cell_type": "code",
   "execution_count": 59,
   "metadata": {
    "execution": {
     "iopub.execute_input": "2021-11-17T01:39:29.660144Z",
     "iopub.status.busy": "2021-11-17T01:39:29.658463Z",
     "iopub.status.idle": "2021-11-17T01:39:29.676078Z",
     "shell.execute_reply": "2021-11-17T01:39:29.675128Z",
     "shell.execute_reply.started": "2021-11-17T01:39:29.660102Z"
    }
   },
   "outputs": [],
   "source": [
    "#21년 직업 종류\n",
    "df21_job = df21['Q5'].value_counts().to_frame().reset_index().rename(columns={'index':'Job', 'Q5':'CNT'})\n",
    "df21_job = df21_job['Job'].to_frame()"
   ]
  },
  {
   "cell_type": "markdown",
   "metadata": {},
   "source": [
    "### **데이터 전처리**\n",
    "---"
   ]
  },
  {
   "cell_type": "code",
   "execution_count": 60,
   "metadata": {
    "execution": {
     "iopub.execute_input": "2021-11-17T01:39:29.677710Z",
     "iopub.status.busy": "2021-11-17T01:39:29.677486Z",
     "iopub.status.idle": "2021-11-17T01:39:29.690145Z",
     "shell.execute_reply": "2021-11-17T01:39:29.689200Z",
     "shell.execute_reply.started": "2021-11-17T01:39:29.677683Z"
    }
   },
   "outputs": [],
   "source": [
    "#data 확인\n",
    "\n",
    "Data_Analyst =['Data Analyst','Data Engineer','Data Miner,Information technology', 'networking, or system ...','Predictive Modeler' ]\n",
    "Data_Engineer =['A business discipline (accounting, economics, ...', 'Business Analyst',\n",
    "                'Statistician', 'Mathematics or statistics', 'Data Scientist', 'Environmental science or geology', \n",
    "                'Humanities', 'Machine Learning Engineer', 'Medical or life sciences (biology, chemistry, ...', \n",
    "                'Physics or astronomy', 'Research Scientist', 'Researcher', 'Scientist/Researcher', \n",
    "                'Social sciences (anthropology, psychology, soc...','Software Developer/Software Engineer']\n",
    "Developer=['Developer Relations/Advocacy','Engineer','Engineering (non-computer focused)',\n",
    "           'Programmer','Software Engineer', 'Computer Scientist','Computer science (software engineering, etc.)', \n",
    "           'Fine arts or performing arts','Product Manager', \n",
    "           'Product/Project Manager','Program/Project Manager','DBA/Database Engineer']\n",
    "Not_Employeed =['Currently not employed', 'Not employed', 'Student']\n",
    "Others = ['I never declared a major', 'Other']"
   ]
  }
 ],
 "metadata": {
  "kernelspec": {
   "display_name": "Python 3",
   "language": "python",
   "name": "python3"
  },
  "language_info": {
   "codemirror_mode": {
    "name": "ipython",
    "version": 3
   },
   "file_extension": ".py",
   "mimetype": "text/x-python",
   "name": "python",
   "nbconvert_exporter": "python",
   "pygments_lexer": "ipython3",
   "version": "3.8.8"
  }
 },
 "nbformat": 4,
 "nbformat_minor": 4
}
